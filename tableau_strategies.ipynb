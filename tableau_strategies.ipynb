{
 "cells": [
  {
   "cell_type": "code",
   "execution_count": 1,
   "metadata": {},
   "outputs": [],
   "source": [
    "from pickling import load_pickle, create_pickle\n",
    "import pandas as pd\n",
    "import numpy as np\n",
    "import matplotlib.pyplot as plt\n",
    "import seaborn as sns\n",
    "from scipy import stats\n",
    "import researchpy as rp\n",
    "import statsmodels.api as sm\n",
    "import choplo_statistique as cstats\n",
    "import choplo_visualization as cvis\n",
    "from statsmodels.formula.api import ols\n",
    "from statsmodels.stats.multicomp import pairwise_tukeyhsd\n",
    "from statsmodels.stats.multicomp import MultiComparison"
   ]
  },
  {
   "cell_type": "code",
   "execution_count": 2,
   "metadata": {},
   "outputs": [
    {
     "name": "stderr",
     "output_type": "stream",
     "text": [
      "C:\\Users\\tousi\\AppData\\Local\\conda\\conda\\envs\\python37\\lib\\site-packages\\pandas\\core\\indexes\\base.py:162: FutureWarning: the 'labels' keyword is deprecated, use 'codes' instead\n",
      "  return cls.__new__(cls, **d)\n"
     ]
    }
   ],
   "source": [
    "a_df = load_pickle('amp')\n",
    "a_side_df = load_pickle('side_amp')\n",
    "a_jt_df = load_pickle('amp_jt_new_filt')\n",
    "a_jt_full_df = load_pickle('amp_not_norm_joint_df_new_filt')\n",
    "a_angle_full_df = load_pickle('amp_not_norm_angle_df_new_filt')\n",
    "a_st_df = load_pickle('amp_strat_new_filt')\n",
    "a_missing_df = load_pickle('missing_amp')\n",
    "a_sum_strat_df = load_pickle('a_sum_strat_df')\n",
    "\n",
    "\n",
    "v_df = load_pickle('vit')\n",
    "v_side_df = load_pickle('side_vit')\n",
    "v_jt_df = load_pickle('vit_jt_new_filt')\n",
    "v_st_df = load_pickle('vit_strat_new_filt')\n",
    "v_jt_full_df = load_pickle('vit_not_norm_joint_df_new_filt')\n",
    "v_angle_full_df = load_pickle('vit_not_norm_angle_df_new_filt')\n",
    "v_missing_df = load_pickle('missing_vit') \n",
    "v_sum_strat_df = load_pickle('v_sum_strat_df')\n",
    "\n",
    "idx = pd.IndexSlice\n"
   ]
  },
  {
   "cell_type": "code",
   "execution_count": 3,
   "metadata": {},
   "outputs": [],
   "source": [
    "col0_names = ['Niveau 1', 'Niveau 2', 'Niveau 3']\n",
    "col1_names = ['Rang', 'Moy (ÉT)', '[Min ; Max]']\n",
    "ind0_names = ['Phase 1', 'Phase 2', 'Phase 3', 'Phase 4']\n",
    "ind1_names = ['DPIap', 'DPIp', 'PS', 'SPI', 'ST']\n"
   ]
  },
  {
   "cell_type": "code",
   "execution_count": 5,
   "metadata": {},
   "outputs": [],
   "source": [
    "def _rank(s):\n",
    "    \n",
    "    s1 = s['phase_1'].rank(ascending=0).astype(int)\n",
    "    s2 = s['phase_2'].rank(ascending=0).astype(int)\n",
    "    s3 = s['phase_3'].rank(ascending=0).astype(int)\n",
    "    s4 = s['phase_4'].rank(ascending=0).astype(int)\n",
    "\n",
    "\n",
    "    return pd.concat([s1,s2,s3,s4], keys=['phase_1', 'phase_2', 'phase_3', 'phase_4'])\n",
    "\n",
    "def add_ranks_col(df):\n",
    "    df['lvl_0','rank'] = _rank(df['lvl_0','mean'])\n",
    "    df['lvl_1','rank'] = _rank(df['lvl_1','mean'])\n",
    "    df['lvl_2','rank'] = _rank(df['lvl_2','mean'])\n",
    "\n",
    "def format_mean_std(m, s):\n",
    "    mstd_string = \"{mean:.2f} ({std:.2f})\"\n",
    "    output = []\n",
    "    n = len(m)\n",
    "    for i in range(0,n):\n",
    "        output.append(mstd_string.format(mean=m[i], std=s[i]))\n",
    "    return np.array(output)\n",
    "\n",
    "def format_range(m, M):\n",
    "    range_string = \"[{_min:.2f} ; {_max:.2f}]\"\n",
    "    output = []\n",
    "    n = len(m)\n",
    "    for i in range(0,n):\n",
    "        output.append(range_string.format(_min=m[i], _max=M[i]))\n",
    "    return np.array(output)\n",
    "\n",
    "def format_rank(r):\n",
    "    rank_string = \"# {rank}\"\n",
    "    output = []\n",
    "    n = len(r)\n",
    "    for i in range(0,n):\n",
    "        output.append(rank_string.format(rank=r[i]))\n",
    "    output = pd.Series(output)\n",
    "    output\n",
    "    return np.array(output)\n",
    "\n",
    "def format_df_output(df):\n",
    "        \n",
    "    c0 = ['lvl_0', 'lvl_1', 'lvl_2']\n",
    "    c1 = ['rank', 'm_std', 'range']\n",
    "    columns = pd.MultiIndex.from_product([c0,c1])\n",
    "    index = df.index\n",
    "    \n",
    "    data = np.empty([len(df.index), len(c0)*len(c1)])\n",
    "    data[:] = np.nan\n",
    "    df_output = pd.DataFrame(data, index=index, columns=columns)\n",
    "    \n",
    "    for lvl in c0:\n",
    "        df_output[lvl,'rank'] = format_rank(df[lvl,'rank'])\n",
    "        df_output[lvl,'m_std'] = format_mean_std(df[lvl,'mean'], df[lvl,'std'])\n",
    "        df_output[lvl,'range'] = format_range(df[lvl,'min'], df[lvl,'max'])\n",
    "    \n",
    "    return df_output\n",
    "    "
   ]
  },
  {
   "cell_type": "code",
   "execution_count": 48,
   "metadata": {},
   "outputs": [],
   "source": [
    "v_sum_strat_df.index.set_names(['level','players', 'moves'],inplace=True)\n",
    "v = v_sum_strat_df.groupby(['level','players']).mean().groupby('level').agg(['mean','std','min','max']).transpose().unstack(2)\n",
    "add_ranks_col(v)\n",
    "v.sort_index(axis=1, inplace=True)"
   ]
  },
  {
   "cell_type": "code",
   "execution_count": 49,
   "metadata": {},
   "outputs": [
    {
     "data": {
      "text/plain": [
       "Index(['DPIap', 'DPIp', 'PS', 'SPI', 'ST'], dtype='object')"
      ]
     },
     "execution_count": 49,
     "metadata": {},
     "output_type": "execute_result"
    }
   ],
   "source": [
    "v.index.get_level_values(1).unique()"
   ]
  },
  {
   "cell_type": "code",
   "execution_count": 50,
   "metadata": {},
   "outputs": [
    {
     "data": {
      "text/plain": [
       "20"
      ]
     },
     "execution_count": 50,
     "metadata": {},
     "output_type": "execute_result"
    }
   ],
   "source": [
    "len(v.index)"
   ]
  },
  {
   "cell_type": "code",
   "execution_count": 63,
   "metadata": {},
   "outputs": [],
   "source": [
    "v_output = format_df_output(v)\n",
    "colnames = pd.MultiIndex.from_product([col0_names,col1_names])\n",
    "index = pd.MultiIndex.from_product([ind0_names, ind1_names])\n",
    "v_output.columns = colnames\n",
    "v_output.index = index"
   ]
  },
  {
   "cell_type": "code",
   "execution_count": 66,
   "metadata": {},
   "outputs": [],
   "source": [
    "v_output.to_excel('table_strat_vitesse.xlsx')"
   ]
  },
  {
   "cell_type": "code",
   "execution_count": 7,
   "metadata": {},
   "outputs": [],
   "source": [
    "def create_and_save_df_strat(sum_df, output_name):\n",
    "    col0_names = ['Niveau 1', 'Niveau 2', 'Niveau 3']\n",
    "    col1_names = ['Rang', 'Moy (ÉT)', '[Min ; Max]']\n",
    "    ind0_names = ['Phase 1', 'Phase 2', 'Phase 3', 'Phase 4']\n",
    "    ind1_names = ['DPIap', 'DPIp', 'PS', 'SPI', 'ST']\n",
    "\n",
    "    sum_df.index.set_names(['level','players', 'moves'],inplace=True)\n",
    "    df = sum_df.groupby(['level','players']).mean().groupby('level').agg(['mean','std','min','max']).transpose().unstack(2)\n",
    "    add_ranks_col(df)\n",
    "    df.sort_index(axis=1, inplace=True)\n",
    "    df_output = format_df_output(df)\n",
    "    colnames = pd.MultiIndex.from_product([col0_names,col1_names])\n",
    "    index = pd.MultiIndex.from_product([ind0_names, ind1_names])\n",
    "    df_output.columns = colnames\n",
    "    df_output.index = index\n",
    "    df_output.to_excel('{}.xlsx'.format(output_name))\n",
    "    return df, df_output"
   ]
  },
  {
   "cell_type": "code",
   "execution_count": 9,
   "metadata": {},
   "outputs": [],
   "source": [
    "df, df_output = create_and_save_df_strat(v_sum_strat_df, 'table_strat_vitesse')"
   ]
  },
  {
   "cell_type": "code",
   "execution_count": null,
   "metadata": {},
   "outputs": [],
   "source": []
  }
 ],
 "metadata": {
  "kernelspec": {
   "display_name": "Python 3",
   "language": "python",
   "name": "python3"
  },
  "language_info": {
   "codemirror_mode": {
    "name": "ipython",
    "version": 3
   },
   "file_extension": ".py",
   "mimetype": "text/x-python",
   "name": "python",
   "nbconvert_exporter": "python",
   "pygments_lexer": "ipython3",
   "version": "3.7.0"
  }
 },
 "nbformat": 4,
 "nbformat_minor": 2
}
