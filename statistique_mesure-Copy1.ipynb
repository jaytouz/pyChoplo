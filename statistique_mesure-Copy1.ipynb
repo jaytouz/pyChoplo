{
 "cells": [
  {
   "cell_type": "code",
   "execution_count": 218,
   "metadata": {},
   "outputs": [],
   "source": [
    "from pickling import load_pickle, create_pickle\n",
    "import pandas as pd\n",
    "import numpy as np\n",
    "import matplotlib.pyplot as plt\n",
    "import seaborn as sns\n",
    "from scipy import stats\n",
    "import researchpy as rp\n",
    "import statsmodels.api as sm\n",
    "import choplo_statistique as cstats\n",
    "import choplo_visualization as cvis\n",
    "from statsmodels.stats.anova import AnovaRM\n",
    "from statsmodels.formula.api import ols\n",
    "from statsmodels.stats.multicomp import pairwise_tukeyhsd\n",
    "from statsmodels.stats.multicomp import MultiComparison\n",
    "import os\n",
    "import statsmodels as sm\n",
    "import pingouin as pg"
   ]
  },
  {
   "cell_type": "code",
   "execution_count": 12,
   "metadata": {},
   "outputs": [
    {
     "name": "stderr",
     "output_type": "stream",
     "text": [
      "C:\\Users\\tousi\\AppData\\Local\\conda\\conda\\envs\\python37\\lib\\site-packages\\pandas\\core\\indexes\\base.py:162: FutureWarning: the 'labels' keyword is deprecated, use 'codes' instead\n",
      "  return cls.__new__(cls, **d)\n"
     ]
    }
   ],
   "source": [
    "a_df = load_pickle('amp')\n",
    "a_side_df = load_pickle('side_amp')\n",
    "a_jt_df = load_pickle('amp_jt_new_filt')\n",
    "a_jt_full_df = load_pickle('amp_not_norm_joint_df_new_filt')\n",
    "a_akl_full_df = load_pickle('amp_not_norm_ankle_df')\n",
    "a_angle_full_df = load_pickle('amp_not_norm_angle_df')\n",
    "a_st_df = load_pickle('amp_strat_new_filt')\n",
    "a_missing_df = load_pickle('missing_amp')\n",
    "\n",
    "v_df = load_pickle('vit')\n",
    "v_side_df = load_pickle('side_vit')\n",
    "v_jt_df = load_pickle('vit_jt_new_filt')\n",
    "v_akl_full_df = load_pickle('vit_not_norm_ankle_df')\n",
    "v_st_df = load_pickle('vit_strat_new_filt')\n",
    "v_jt_full_df = load_pickle('vit_not_norm_joint_df_new_filt')\n",
    "v_angle_full_df = load_pickle('vit_not_norm_angle_df')\n",
    "v_missing_df = load_pickle('missing_vit') \n",
    "\n",
    "\n",
    "idx = pd.IndexSlice"
   ]
  },
  {
   "cell_type": "code",
   "execution_count": 3,
   "metadata": {},
   "outputs": [],
   "source": [
    "val1, ind1 = ['value'], ['index']\n",
    "val2, val3 = val1*2, val1*3\n",
    "ind2, ind3 = ind1*2, ind1*3\n",
    "v1, n1 = ['start_cm', 'rel_pt'], 'cm'\n",
    "v2, n2 = ['amp_max_c7', 'amp_max_pel', 'amp_max_cop'], 'amp max'\n",
    "v3, n3 = ['vel_max_c7', 'vel_max_pel', 'vel_max_cop'], 'vel max'\n",
    "v4, n4 = ['dtml', 'dcm', 'rcm'], 'rcm'\n",
    "v5, n5 = ['rel_pt', 'dcm'], 'cmmax vs dcm'\n",
    "v6, n6 = ['dtml'], 'dtml'\n",
    "v7, n7 = ['overshoot'], 'overshoot'\n",
    "\n",
    "# v8, n8 = ['rcm'], 'rcm'"
   ]
  },
  {
   "cell_type": "markdown",
   "metadata": {},
   "source": [
    "# WORKING WITH ANKLE BOS"
   ]
  },
  {
   "cell_type": "code",
   "execution_count": 145,
   "metadata": {},
   "outputs": [],
   "source": [
    "#getting mean ankle pos for each move\n",
    "a_ankle_l = a_akl_full_df.loc[:, idx[:,:,:,'ankle_l']].mean().groupby(level=[0,1]).mean()\n",
    "a_ankle_l.name = 'value'\n",
    "\n",
    "a_ankle_r = a_akl_full_df.loc[:, idx[:,:,:,'ankle_r']].mean().groupby(level=[0,1]).mean()\n",
    "a_ankle_r.name = 'value'\n",
    "\n",
    "\n",
    "#getting mean ankle pos for each move\n",
    "v_ankle_l = v_akl_full_df.loc[:, idx[:,:,:,'ankle_l']].mean().groupby(level=[0,1]).mean()\n",
    "v_ankle_l.name = 'value'\n",
    "\n",
    "v_ankle_r = v_akl_full_df.loc[:, idx[:,:,:,'ankle_r']].mean().groupby(level=[0,1]).mean()\n",
    "v_ankle_r.name = 'value'\n"
   ]
  },
  {
   "cell_type": "code",
   "execution_count": 247,
   "metadata": {},
   "outputs": [],
   "source": [
    "df = v_ankle_l\n",
    "df = df.reset_index()\n",
    "df.replace(['lvl_0', 'lvl_1','lvl_2'],[0,1,2], inplace=True)\n",
    "df.rename({'level_1':'subject'},axis=1,inplace = True)\n",
    "df.rename({'level_0':'level'},axis=1,inplace = True)\n",
    "\n",
    "aov_tbl = pg.rm_anova(df, dv='value', subject='subject',within='level', detailed=True, correction=True)\n",
    "mc = pg.pairwise_ttests('value', within='level', subject='subject', data = df, padjust='fdr_bh', effsize='cohen')\n",
    "w_sq = round(aov_tbl.iloc[0][8],3)\n",
    "p_val = aov_tbl.iloc[0][6]"
   ]
  },
  {
   "cell_type": "code",
   "execution_count": 249,
   "metadata": {},
   "outputs": [
    {
     "data": {
      "text/html": [
       "<div>\n",
       "<style scoped>\n",
       "    .dataframe tbody tr th:only-of-type {\n",
       "        vertical-align: middle;\n",
       "    }\n",
       "\n",
       "    .dataframe tbody tr th {\n",
       "        vertical-align: top;\n",
       "    }\n",
       "\n",
       "    .dataframe thead th {\n",
       "        text-align: right;\n",
       "    }\n",
       "</style>\n",
       "<table border=\"1\" class=\"dataframe\">\n",
       "  <thead>\n",
       "    <tr style=\"text-align: right;\">\n",
       "      <th></th>\n",
       "      <th>Source</th>\n",
       "      <th>SS</th>\n",
       "      <th>DF</th>\n",
       "      <th>MS</th>\n",
       "      <th>F</th>\n",
       "      <th>p-unc</th>\n",
       "      <th>p-GG-corr</th>\n",
       "      <th>np2</th>\n",
       "      <th>w2</th>\n",
       "      <th>eps</th>\n",
       "      <th>sphericity</th>\n",
       "      <th>W-spher</th>\n",
       "      <th>p-spher</th>\n",
       "    </tr>\n",
       "  </thead>\n",
       "  <tbody>\n",
       "    <tr>\n",
       "      <th>0</th>\n",
       "      <td>level</td>\n",
       "      <td>0.000165</td>\n",
       "      <td>2</td>\n",
       "      <td>0.000082</td>\n",
       "      <td>0.974004</td>\n",
       "      <td>0.396604</td>\n",
       "      <td>0.386432</td>\n",
       "      <td>0.0976542</td>\n",
       "      <td>-0.000552447</td>\n",
       "      <td>0.849438</td>\n",
       "      <td>True</td>\n",
       "      <td>inf</td>\n",
       "      <td>1</td>\n",
       "    </tr>\n",
       "    <tr>\n",
       "      <th>1</th>\n",
       "      <td>Error</td>\n",
       "      <td>0.001522</td>\n",
       "      <td>18</td>\n",
       "      <td>0.000085</td>\n",
       "      <td>-</td>\n",
       "      <td>-</td>\n",
       "      <td>-</td>\n",
       "      <td>-</td>\n",
       "      <td>-</td>\n",
       "      <td>-</td>\n",
       "      <td>-</td>\n",
       "      <td>-</td>\n",
       "      <td>-</td>\n",
       "    </tr>\n",
       "  </tbody>\n",
       "</table>\n",
       "</div>"
      ],
      "text/plain": [
       "  Source        SS  DF        MS         F     p-unc p-GG-corr        np2  \\\n",
       "0  level  0.000165   2  0.000082  0.974004  0.396604  0.386432  0.0976542   \n",
       "1  Error  0.001522  18  0.000085         -         -         -          -   \n",
       "\n",
       "            w2       eps sphericity W-spher p-spher  \n",
       "0 -0.000552447  0.849438       True     inf       1  \n",
       "1            -         -          -       -       -  "
      ]
     },
     "execution_count": 249,
     "metadata": {},
     "output_type": "execute_result"
    }
   ],
   "source": [
    "aov_tbl"
   ]
  },
  {
   "cell_type": "markdown",
   "metadata": {},
   "source": [
    "# reset index"
   ]
  },
  {
   "cell_type": "code",
   "execution_count": 216,
   "metadata": {},
   "outputs": [
    {
     "data": {
      "text/html": [
       "<div>\n",
       "<style scoped>\n",
       "    .dataframe tbody tr th:only-of-type {\n",
       "        vertical-align: middle;\n",
       "    }\n",
       "\n",
       "    .dataframe tbody tr th {\n",
       "        vertical-align: top;\n",
       "    }\n",
       "\n",
       "    .dataframe thead th {\n",
       "        text-align: right;\n",
       "    }\n",
       "</style>\n",
       "<table border=\"1\" class=\"dataframe\">\n",
       "  <thead>\n",
       "    <tr style=\"text-align: right;\">\n",
       "      <th></th>\n",
       "      <th>level_0</th>\n",
       "      <th>value</th>\n",
       "    </tr>\n",
       "    <tr>\n",
       "      <th>level_1</th>\n",
       "      <th></th>\n",
       "      <th></th>\n",
       "    </tr>\n",
       "  </thead>\n",
       "  <tbody>\n",
       "    <tr>\n",
       "      <th>player_0</th>\n",
       "      <td>0</td>\n",
       "      <td>-0.017649</td>\n",
       "    </tr>\n",
       "    <tr>\n",
       "      <th>player_1</th>\n",
       "      <td>0</td>\n",
       "      <td>-0.000384</td>\n",
       "    </tr>\n",
       "    <tr>\n",
       "      <th>player_2</th>\n",
       "      <td>0</td>\n",
       "      <td>0.001527</td>\n",
       "    </tr>\n",
       "    <tr>\n",
       "      <th>player_3</th>\n",
       "      <td>0</td>\n",
       "      <td>-0.017368</td>\n",
       "    </tr>\n",
       "    <tr>\n",
       "      <th>player_4</th>\n",
       "      <td>0</td>\n",
       "      <td>-0.032389</td>\n",
       "    </tr>\n",
       "  </tbody>\n",
       "</table>\n",
       "</div>"
      ],
      "text/plain": [
       "          level_0     value\n",
       "level_1                    \n",
       "player_0        0 -0.017649\n",
       "player_1        0 -0.000384\n",
       "player_2        0  0.001527\n",
       "player_3        0 -0.017368\n",
       "player_4        0 -0.032389"
      ]
     },
     "execution_count": 216,
     "metadata": {},
     "output_type": "execute_result"
    }
   ],
   "source": [
    "df = a_ankle_l\n",
    "df = df.reset_index()\n",
    "df.set_index('level_1', inplace = True)\n",
    "df.replace(['lvl_0', 'lvl_1','lvl_2'],[0,1,2], inplace=True)\n",
    "df.head()"
   ]
  },
  {
   "cell_type": "code",
   "execution_count": 217,
   "metadata": {},
   "outputs": [
    {
     "name": "stdout",
     "output_type": "stream",
     "text": [
      "0.2797419362441815\n"
     ]
    }
   ],
   "source": [
    "data = df\n",
    "results = ols(\"{} ~ C({})\".format('value', 'level_0'), data=data).fit() \n",
    "mc = MultiComparison(data['value'], data['level_0'])\n",
    "post_hoc = mc.\n",
    "reject = post_hoc.reject\n",
    "n_group = mc.ngroups\n",
    "group1 = mc.pairindices[0]\n",
    "group2 = mc.pairindices[1]\n",
    "print(results.f_pvalue)"
   ]
  },
  {
   "cell_type": "raw",
   "metadata": {},
   "source": [
    "post_hoc.summary()"
   ]
  },
  {
   "cell_type": "code",
   "execution_count": 195,
   "metadata": {},
   "outputs": [
    {
     "data": {
      "text/plain": [
       "level_1\n",
       "player_0   -0.017649\n",
       "player_1   -0.000384\n",
       "player_2    0.001527\n",
       "player_3   -0.017368\n",
       "player_4   -0.032389\n",
       "player_5   -0.011563\n",
       "player_6   -0.011281\n",
       "player_7   -0.034079\n",
       "player_8   -0.000831\n",
       "player_9   -0.000598\n",
       "Name: value, dtype: float64"
      ]
     },
     "execution_count": 195,
     "metadata": {},
     "output_type": "execute_result"
    }
   ],
   "source": []
  },
  {
   "cell_type": "code",
   "execution_count": 209,
   "metadata": {},
   "outputs": [
    {
     "data": {
      "text/plain": [
       "0.7358028255349152"
      ]
     },
     "execution_count": 209,
     "metadata": {},
     "output_type": "execute_result"
    }
   ],
   "source": [
    "results.f_pvalue"
   ]
  },
  {
   "cell_type": "code",
   "execution_count": 196,
   "metadata": {},
   "outputs": [
    {
     "data": {
      "text/plain": [
       "F_onewayResult(statistic=1.3359270351928625, pvalue=0.279741936244182)"
      ]
     },
     "execution_count": 196,
     "metadata": {},
     "output_type": "execute_result"
    }
   ],
   "source": [
    "stats.f_oneway(data[data['level_0'] == 0]['value'], data[data['level_0'] == 1]['value'], data[data['level_0'] == 2]['value'])"
   ]
  },
  {
   "cell_type": "code",
   "execution_count": null,
   "metadata": {},
   "outputs": [],
   "source": []
  },
  {
   "cell_type": "code",
   "execution_count": null,
   "metadata": {},
   "outputs": [],
   "source": []
  },
  {
   "cell_type": "code",
   "execution_count": null,
   "metadata": {},
   "outputs": [],
   "source": []
  },
  {
   "cell_type": "code",
   "execution_count": null,
   "metadata": {},
   "outputs": [],
   "source": []
  },
  {
   "cell_type": "code",
   "execution_count": 178,
   "metadata": {},
   "outputs": [],
   "source": [
    "def box_plot_post_hoc_index(df, v:list, x='level', title=None, sharex=False, xlabel=None, ylabel=None,show=True,save=True, name='picture',dt='amplitude', get_fig=False, fig_size=(9.5, 6.5)):\n",
    "    import matplotlib\n",
    "    from matplotlib.ticker import FormatStrFormatter\n",
    "\n",
    "    font = {'family' : 'normal',\n",
    "            'weight': 'normal',\n",
    "        'size'   : 12}\n",
    "\n",
    " \n",
    "    \n",
    "    #### PLOT\n",
    "    fig, axes = plt.subplots(nrows = len(v), sharex=sharex, sharey=True)\n",
    "    i=0\n",
    "    hue = ['index'] * len(v)\n",
    "    for idx in zip(v,hue):\n",
    "        if len(v) == 1:\n",
    "            ax= axes\n",
    "        else:\n",
    "            ax = axes[i]\n",
    "\n",
    "        print(idx[0],idx[1])\n",
    "        matplotlib.rc('font', **font)\n",
    "        data = cstats.get_data_for_anova(df, idx[0], idx[1])\n",
    "        print(data.head())\n",
    "        results = ols(\"{} ~ C({})\".format(idx[0], x), data=data).fit() \n",
    "        mc = MultiComparison(data[idx[0]], data[x])\n",
    "        post_hoc = mc.tukeyhsd()\n",
    "        reject = post_hoc.reject\n",
    "        n_group = mc.ngroups\n",
    "        group1 = mc.pairindices[0]\n",
    "        group2 = mc.pairindices[1]\n",
    "        \n",
    "        \n",
    "        sns.boxplot(x=idx[0], y=x, data=data, ax=ax, orient='h')\n",
    "        i+=1\n",
    "\n",
    "    return fig, axes\n",
    "\n",
    "def box_plot_post_hoc_value(df, v:list, x='level', title=None, sharex=False, xlabel=None, ylabel=None,show=True,save=True, name='picture',dt='amplitude', get_fig=False, fig_size=(9.5, 6.5)):\n",
    "    import matplotlib\n",
    "    from matplotlib.ticker import FormatStrFormatter\n",
    "\n",
    "    font = {'family' : 'normal',\n",
    "            'weight': 'normal',\n",
    "        'size'   : 12}\n",
    "\n",
    " \n",
    "    \n",
    "    #### PLOT\n",
    "    fig, axes = plt.subplots(nrows = len(v), sharex=sharex, sharey=True)\n",
    "    i=0\n",
    "    hue = ['index'] * len(v)\n",
    "    for idx in zip(v,hue):\n",
    "        if len(v) == 1:\n",
    "            ax= axes\n",
    "        else:\n",
    "            ax = axes[i]\n",
    "\n",
    "\n",
    "        matplotlib.rc('font', **font)\n",
    "        data = cstats.get_data_for_anova(df, idx[0], idx[1])\n",
    "        results = ols(\"{} ~ C({})\".format(idx[0], x), data=data).fit() \n",
    "        mc = MultiComparison(data[idx[0]], data[x])\n",
    "        post_hoc = mc.tukeyhsd()\n",
    "        reject = post_hoc.reject\n",
    "        n_group = mc.ngroups\n",
    "        group1 = mc.pairindices[0]\n",
    "        group2 = mc.pairindices[1]\n",
    "        \n",
    "        \n",
    "        sns.boxplot(x=idx[0], y=x, data=data, ax=ax, orient='v')\n",
    "        i+=1\n",
    "\n",
    "    return fig, axes"
   ]
  },
  {
   "cell_type": "code",
   "execution_count": 8,
   "metadata": {},
   "outputs": [],
   "source": [
    "# v = v3\n",
    "# dt = 'vitesse'\n",
    "# hue = 'index'\n",
    "# name = n3\n",
    "# cwd = os.getcwd().replace('\\\\', '/')\n",
    "# png_name = cwd + '/graphique_post_hoc/{}/instant_{}.png'.format(dt, name)\n",
    "# f, axes = box_plot_post_hoc_index(v_df, v, show=False, sharex=True, name=n2, dt=dt)\n",
    "# f.set_size_inches(10, 8)\n",
    "# plt.tight_layout()\n",
    "# if len(v) == 1:\n",
    "#     xticks = ax.get_xticks()/50\n",
    "#     ax.set_xticklabels(xticks)\n",
    "# else:\n",
    "#     for ax in axes:\n",
    "#         xticks = ax.get_xticks()/50\n",
    "#         ax.set_xticklabels(xticks)\n",
    "#         ax.set_xlabel('')\n",
    "#         ax.set_ylabel('')\n",
    "        \n",
    "# plt.xlabel('Temps (s)')\n",
    "# plt.savefig(png_name, dpi=500)"
   ]
  },
  {
   "cell_type": "code",
   "execution_count": null,
   "metadata": {},
   "outputs": [],
   "source": []
  },
  {
   "cell_type": "code",
   "execution_count": null,
   "metadata": {},
   "outputs": [],
   "source": []
  },
  {
   "cell_type": "code",
   "execution_count": null,
   "metadata": {},
   "outputs": [],
   "source": []
  },
  {
   "cell_type": "code",
   "execution_count": null,
   "metadata": {},
   "outputs": [],
   "source": []
  },
  {
   "cell_type": "code",
   "execution_count": null,
   "metadata": {},
   "outputs": [],
   "source": []
  },
  {
   "cell_type": "markdown",
   "metadata": {},
   "source": [
    "# save figures post hoc tukey hsd"
   ]
  },
  {
   "cell_type": "markdown",
   "metadata": {},
   "source": [
    "## Vitesse"
   ]
  },
  {
   "cell_type": "markdown",
   "metadata": {},
   "source": [
    "### Index"
   ]
  },
  {
   "cell_type": "code",
   "execution_count": 9,
   "metadata": {},
   "outputs": [],
   "source": [
    "# cvis.box_plot_post_hoc_index(v_df, v1, show=False, name=n1, dt='vitesse')\n",
    "# cvis.box_plot_post_hoc_index(v_df, v2, show=False, sharex=True, name=n2, dt='vitesse')\n",
    "# cvis.box_plot_post_hoc_index(v_df, v3, show=False, sharex=False, name=n3, dt='vitesse')\n",
    "# cvis.box_plot_post_hoc_index(v_df, v4, show=False, name=n4, dt='vitesse')\n",
    "# cvis.box_plot_post_hoc_index(v_df, v5, show=False, name=n5, dt='vitesse')\n",
    "# cvis.box_plot_post_hoc_index(v_df, v6, show=False, name=n6, dt='vitesse')\n",
    "# cvis.box_plot_post_hoc_index(v_df, v7, show=False, name=n7, dt='vitesse')\n"
   ]
  },
  {
   "cell_type": "markdown",
   "metadata": {},
   "source": [
    "### value"
   ]
  },
  {
   "cell_type": "code",
   "execution_count": 10,
   "metadata": {},
   "outputs": [],
   "source": [
    "# cvis.box_plot_post_hoc_value(v_df, v1, show=False, name=n1, dt='vitesse')\n",
    "# cvis.box_plot_post_hoc_value(v_df, v2, show=False, name=n2, dt='vitesse')\n",
    "# cvis.box_plot_post_hoc_value(v_df, v3, show=False, name=n3, dt='vitesse')\n",
    "# cvis.box_plot_post_hoc_value(v_df, v4, show=False, name=n4, dt='vitesse')\n",
    "# cvis.box_plot_post_hoc_value(v_df, v5, show=False, name=n5, dt='vitesse')\n",
    "# cvis.box_plot_post_hoc_value(v_df, v6, show=False, name=n6, dt='vitesse')\n",
    "# cvis.box_plot_post_hoc_value(v_df, v7, show=False, name=n7, dt='vitesse')\n"
   ]
  },
  {
   "cell_type": "markdown",
   "metadata": {},
   "source": [
    "## amplitude"
   ]
  },
  {
   "cell_type": "markdown",
   "metadata": {},
   "source": [
    "### Index"
   ]
  },
  {
   "cell_type": "code",
   "execution_count": 179,
   "metadata": {},
   "outputs": [
    {
     "name": "stdout",
     "output_type": "stream",
     "text": [
      "start_cm index\n",
      "           start_cm  level\n",
      "player_0  48.500000      0\n",
      "player_1  69.966667      0\n",
      "player_2  69.766667      0\n",
      "player_3  81.500000      0\n",
      "player_4  62.576923      0\n",
      "rel_pt index\n",
      "              rel_pt  level\n",
      "player_0  110.192308      0\n",
      "player_1  119.333333      0\n",
      "player_2  115.333333      0\n",
      "player_3  122.833333      0\n",
      "player_4  127.269231      0\n"
     ]
    },
    {
     "data": {
      "text/plain": [
       "(<Figure size 432x288 with 2 Axes>,\n",
       " array([<matplotlib.axes._subplots.AxesSubplot object at 0x000002DA1C069F28>,\n",
       "        <matplotlib.axes._subplots.AxesSubplot object at 0x000002DA1C113780>],\n",
       "       dtype=object))"
      ]
     },
     "execution_count": 179,
     "metadata": {},
     "output_type": "execute_result"
    },
    {
     "data": {
      "image/png": "[encoded data removed]",
      "text/plain": [
       "<Figure size 432x288 with 2 Axes>"
      ]
     },
     "metadata": {
      "needs_background": "light"
     },
     "output_type": "display_data"
    }
   ],
   "source": [
    "box_plot_post_hoc_index(a_df, v1, show=False, name=n1, dt='amplitude')\n",
    "# cvis.box_plot_post_hoc_index(a_df, v2, show=False, name=n2, dt='amplitude')\n",
    "# cvis.box_plot_post_hoc_index(a_df, v3, show=False, name=n3, dt='amplitude')\n",
    "# cvis.box_plot_post_hoc_index(a_df, v4, show=False, name=n4, dt='amplitude')\n",
    "# cvis.box_plot_post_hoc_index(a_df, v5, show=False, name=n5, dt='amplitude')\n",
    "# cvis.box_plot_post_hoc_index(a_df, v6, show=False, name=n6, dt='amplitude')\n",
    "# cvis.box_plot_post_hoc_index(a_df, v7, show=False, name=n7, dt='amplitude')\n"
   ]
  },
  {
   "cell_type": "markdown",
   "metadata": {},
   "source": [
    "### Value"
   ]
  },
  {
   "cell_type": "code",
   "execution_count": 150,
   "metadata": {},
   "outputs": [],
   "source": [
    "# cvis.box_plot_post_hoc_value(a_df, v1, show=False, name=n1, dt='amplitude')\n",
    "# cvis.box_plot_post_hoc_value(a_df, v2, show=False, name=n2, dt='amplitude')\n",
    "# cvis.box_plot_post_hoc_value(a_df, v3, show=False, name=n3, dt='amplitude')\n",
    "# cvis.box_plot_post_hoc_value(a_df, v4, show=False, name=n4, dt='amplitude')\n",
    "# cvis.box_plot_post_hoc_value(a_df, v5, show=False, name=n5, dt='amplitude')\n",
    "# cvis.box_plot_post_hoc_value(a_df, v6, show=False, name=n6, dt='amplitude')\n",
    "# cvis.box_plot_post_hoc_value(a_df, v7, show=False, name=n7, dt='amplitude')\n"
   ]
  },
  {
   "cell_type": "code",
   "execution_count": 13,
   "metadata": {},
   "outputs": [],
   "source": [
    "# vmc7 = v_df.vel_max_c7['index'].dropna()\n",
    "# vmpel = v_df.vel_max_pel['index'].dropna()\n",
    "# vmcop = v_df.vel_max_cop['index'].dropna()\n",
    "# f = plt.figure()\n",
    "# sns.distplot(vmc7, color='r')\n",
    "# sns.distplot(vmpel, color='b')\n",
    "# sns.distplot(vmcop, color='k')\n",
    "# f.set_size_inches(10,8)\n",
    "# plt.savefig('displot_vitesse_max_vel.png')"
   ]
  },
  {
   "cell_type": "code",
   "execution_count": 14,
   "metadata": {},
   "outputs": [
    {
     "ename": "AttributeError",
     "evalue": "module 'statsmodels.stats' has no attribute 'anova_lm'",
     "output_type": "error",
     "traceback": [
      "\u001b[1;31m---------------------------------------------------------------------------\u001b[0m",
      "\u001b[1;31mAttributeError\u001b[0m                            Traceback (most recent call last)",
      "\u001b[1;32m<ipython-input-14-5ed407e43e85>\u001b[0m in \u001b[0;36m<module>\u001b[1;34m\u001b[0m\n\u001b[0;32m      4\u001b[0m \u001b[0mdata\u001b[0m \u001b[1;33m=\u001b[0m \u001b[0mcstats\u001b[0m\u001b[1;33m.\u001b[0m\u001b[0mget_data_for_anova\u001b[0m\u001b[1;33m(\u001b[0m\u001b[0mdf\u001b[0m\u001b[1;33m,\u001b[0m \u001b[0mv\u001b[0m\u001b[1;33m,\u001b[0m \u001b[0mhue\u001b[0m\u001b[1;33m)\u001b[0m\u001b[1;33m\u001b[0m\u001b[0m\n\u001b[0;32m      5\u001b[0m \u001b[0mresults\u001b[0m \u001b[1;33m=\u001b[0m \u001b[0mols\u001b[0m\u001b[1;33m(\u001b[0m\u001b[1;34m\"{} ~ C(level)\"\u001b[0m\u001b[1;33m.\u001b[0m\u001b[0mformat\u001b[0m\u001b[1;33m(\u001b[0m\u001b[0mv\u001b[0m\u001b[1;33m)\u001b[0m\u001b[1;33m,\u001b[0m \u001b[0mdata\u001b[0m\u001b[1;33m=\u001b[0m\u001b[0mdata\u001b[0m\u001b[1;33m)\u001b[0m\u001b[1;33m.\u001b[0m\u001b[0mfit\u001b[0m\u001b[1;33m(\u001b[0m\u001b[1;33m)\u001b[0m\u001b[1;33m\u001b[0m\u001b[0m\n\u001b[1;32m----> 6\u001b[1;33m \u001b[0maov_tbl\u001b[0m \u001b[1;33m=\u001b[0m \u001b[0mcstats\u001b[0m\u001b[1;33m.\u001b[0m\u001b[0manova_table\u001b[0m\u001b[1;33m(\u001b[0m\u001b[0msm\u001b[0m\u001b[1;33m.\u001b[0m\u001b[0mstats\u001b[0m\u001b[1;33m.\u001b[0m\u001b[0manova_lm\u001b[0m\u001b[1;33m(\u001b[0m\u001b[0mresults\u001b[0m\u001b[1;33m,\u001b[0m \u001b[0mtyp\u001b[0m\u001b[1;33m=\u001b[0m\u001b[1;36m2\u001b[0m\u001b[1;33m)\u001b[0m\u001b[1;33m)\u001b[0m\u001b[1;33m\u001b[0m\u001b[0m\n\u001b[0m",
      "\u001b[1;31mAttributeError\u001b[0m: module 'statsmodels.stats' has no attribute 'anova_lm'"
     ]
    }
   ],
   "source": [
    "df= a_df\n",
    "v = 'start_cm'\n",
    "hue = 'value'\n",
    "data = cstats.get_data_for_anova(df, v, hue)\n",
    "results = ols(\"{} ~ C(level)\".format(v), data=data).fit() \n",
    "aov_tbl = cstats.anova_table(sm.stats.anova_lm(results, typ=2))        \n"
   ]
  },
  {
   "cell_type": "code",
   "execution_count": null,
   "metadata": {},
   "outputs": [],
   "source": []
  },
  {
   "cell_type": "code",
   "execution_count": 15,
   "metadata": {},
   "outputs": [
    {
     "data": {
      "text/html": [
       "<div>\n",
       "<style scoped>\n",
       "    .dataframe tbody tr th:only-of-type {\n",
       "        vertical-align: middle;\n",
       "    }\n",
       "\n",
       "    .dataframe tbody tr th {\n",
       "        vertical-align: top;\n",
       "    }\n",
       "\n",
       "    .dataframe thead th {\n",
       "        text-align: right;\n",
       "    }\n",
       "</style>\n",
       "<table border=\"1\" class=\"dataframe\">\n",
       "  <thead>\n",
       "    <tr style=\"text-align: right;\">\n",
       "      <th></th>\n",
       "      <th>player</th>\n",
       "      <th>start_cm</th>\n",
       "      <th>level</th>\n",
       "    </tr>\n",
       "  </thead>\n",
       "  <tbody>\n",
       "    <tr>\n",
       "      <th>0</th>\n",
       "      <td>player_0</td>\n",
       "      <td>0.000685</td>\n",
       "      <td>0</td>\n",
       "    </tr>\n",
       "    <tr>\n",
       "      <th>1</th>\n",
       "      <td>player_1</td>\n",
       "      <td>0.000756</td>\n",
       "      <td>0</td>\n",
       "    </tr>\n",
       "    <tr>\n",
       "      <th>2</th>\n",
       "      <td>player_2</td>\n",
       "      <td>0.002141</td>\n",
       "      <td>0</td>\n",
       "    </tr>\n",
       "    <tr>\n",
       "      <th>3</th>\n",
       "      <td>player_3</td>\n",
       "      <td>0.002626</td>\n",
       "      <td>0</td>\n",
       "    </tr>\n",
       "    <tr>\n",
       "      <th>4</th>\n",
       "      <td>player_4</td>\n",
       "      <td>0.000303</td>\n",
       "      <td>0</td>\n",
       "    </tr>\n",
       "    <tr>\n",
       "      <th>5</th>\n",
       "      <td>player_5</td>\n",
       "      <td>0.001176</td>\n",
       "      <td>0</td>\n",
       "    </tr>\n",
       "    <tr>\n",
       "      <th>6</th>\n",
       "      <td>player_6</td>\n",
       "      <td>0.002912</td>\n",
       "      <td>0</td>\n",
       "    </tr>\n",
       "    <tr>\n",
       "      <th>7</th>\n",
       "      <td>player_7</td>\n",
       "      <td>0.000141</td>\n",
       "      <td>0</td>\n",
       "    </tr>\n",
       "    <tr>\n",
       "      <th>8</th>\n",
       "      <td>player_8</td>\n",
       "      <td>0.001799</td>\n",
       "      <td>0</td>\n",
       "    </tr>\n",
       "    <tr>\n",
       "      <th>9</th>\n",
       "      <td>player_9</td>\n",
       "      <td>0.001006</td>\n",
       "      <td>0</td>\n",
       "    </tr>\n",
       "    <tr>\n",
       "      <th>10</th>\n",
       "      <td>player_0</td>\n",
       "      <td>0.001462</td>\n",
       "      <td>1</td>\n",
       "    </tr>\n",
       "    <tr>\n",
       "      <th>11</th>\n",
       "      <td>player_1</td>\n",
       "      <td>0.000555</td>\n",
       "      <td>1</td>\n",
       "    </tr>\n",
       "    <tr>\n",
       "      <th>12</th>\n",
       "      <td>player_2</td>\n",
       "      <td>0.003207</td>\n",
       "      <td>1</td>\n",
       "    </tr>\n",
       "    <tr>\n",
       "      <th>13</th>\n",
       "      <td>player_3</td>\n",
       "      <td>0.002063</td>\n",
       "      <td>1</td>\n",
       "    </tr>\n",
       "    <tr>\n",
       "      <th>14</th>\n",
       "      <td>player_4</td>\n",
       "      <td>-0.000090</td>\n",
       "      <td>1</td>\n",
       "    </tr>\n",
       "    <tr>\n",
       "      <th>15</th>\n",
       "      <td>player_5</td>\n",
       "      <td>0.003440</td>\n",
       "      <td>1</td>\n",
       "    </tr>\n",
       "    <tr>\n",
       "      <th>16</th>\n",
       "      <td>player_6</td>\n",
       "      <td>0.003930</td>\n",
       "      <td>1</td>\n",
       "    </tr>\n",
       "    <tr>\n",
       "      <th>17</th>\n",
       "      <td>player_7</td>\n",
       "      <td>0.002698</td>\n",
       "      <td>1</td>\n",
       "    </tr>\n",
       "    <tr>\n",
       "      <th>18</th>\n",
       "      <td>player_8</td>\n",
       "      <td>0.000666</td>\n",
       "      <td>1</td>\n",
       "    </tr>\n",
       "    <tr>\n",
       "      <th>19</th>\n",
       "      <td>player_9</td>\n",
       "      <td>0.000748</td>\n",
       "      <td>1</td>\n",
       "    </tr>\n",
       "    <tr>\n",
       "      <th>20</th>\n",
       "      <td>player_0</td>\n",
       "      <td>0.004953</td>\n",
       "      <td>2</td>\n",
       "    </tr>\n",
       "    <tr>\n",
       "      <th>21</th>\n",
       "      <td>player_1</td>\n",
       "      <td>0.000984</td>\n",
       "      <td>2</td>\n",
       "    </tr>\n",
       "    <tr>\n",
       "      <th>22</th>\n",
       "      <td>player_2</td>\n",
       "      <td>0.002095</td>\n",
       "      <td>2</td>\n",
       "    </tr>\n",
       "    <tr>\n",
       "      <th>23</th>\n",
       "      <td>player_3</td>\n",
       "      <td>0.004483</td>\n",
       "      <td>2</td>\n",
       "    </tr>\n",
       "    <tr>\n",
       "      <th>24</th>\n",
       "      <td>player_4</td>\n",
       "      <td>0.001548</td>\n",
       "      <td>2</td>\n",
       "    </tr>\n",
       "    <tr>\n",
       "      <th>25</th>\n",
       "      <td>player_5</td>\n",
       "      <td>0.003005</td>\n",
       "      <td>2</td>\n",
       "    </tr>\n",
       "    <tr>\n",
       "      <th>26</th>\n",
       "      <td>player_6</td>\n",
       "      <td>0.000198</td>\n",
       "      <td>2</td>\n",
       "    </tr>\n",
       "    <tr>\n",
       "      <th>27</th>\n",
       "      <td>player_7</td>\n",
       "      <td>0.002326</td>\n",
       "      <td>2</td>\n",
       "    </tr>\n",
       "    <tr>\n",
       "      <th>28</th>\n",
       "      <td>player_8</td>\n",
       "      <td>0.002647</td>\n",
       "      <td>2</td>\n",
       "    </tr>\n",
       "    <tr>\n",
       "      <th>29</th>\n",
       "      <td>player_9</td>\n",
       "      <td>0.001746</td>\n",
       "      <td>2</td>\n",
       "    </tr>\n",
       "  </tbody>\n",
       "</table>\n",
       "</div>"
      ],
      "text/plain": [
       "      player  start_cm  level\n",
       "0   player_0  0.000685      0\n",
       "1   player_1  0.000756      0\n",
       "2   player_2  0.002141      0\n",
       "3   player_3  0.002626      0\n",
       "4   player_4  0.000303      0\n",
       "5   player_5  0.001176      0\n",
       "6   player_6  0.002912      0\n",
       "7   player_7  0.000141      0\n",
       "8   player_8  0.001799      0\n",
       "9   player_9  0.001006      0\n",
       "10  player_0  0.001462      1\n",
       "11  player_1  0.000555      1\n",
       "12  player_2  0.003207      1\n",
       "13  player_3  0.002063      1\n",
       "14  player_4 -0.000090      1\n",
       "15  player_5  0.003440      1\n",
       "16  player_6  0.003930      1\n",
       "17  player_7  0.002698      1\n",
       "18  player_8  0.000666      1\n",
       "19  player_9  0.000748      1\n",
       "20  player_0  0.004953      2\n",
       "21  player_1  0.000984      2\n",
       "22  player_2  0.002095      2\n",
       "23  player_3  0.004483      2\n",
       "24  player_4  0.001548      2\n",
       "25  player_5  0.003005      2\n",
       "26  player_6  0.000198      2\n",
       "27  player_7  0.002326      2\n",
       "28  player_8  0.002647      2\n",
       "29  player_9  0.001746      2"
      ]
     },
     "execution_count": 15,
     "metadata": {},
     "output_type": "execute_result"
    }
   ],
   "source": [
    "data = data.reset_index()\n",
    "data.rename(columns={'index':'player'}, inplace=True)\n",
    "data"
   ]
  },
  {
   "cell_type": "code",
   "execution_count": 16,
   "metadata": {},
   "outputs": [],
   "source": [
    "res2 = sm.stats.anova.AnovaRM(data, 'start_cm', 'player', within=['level'])"
   ]
  },
  {
   "cell_type": "code",
   "execution_count": 17,
   "metadata": {},
   "outputs": [
    {
     "name": "stdout",
     "output_type": "stream",
     "text": [
      "               Anova\n",
      "===================================\n",
      "      Num DF  Den DF F Value Pr > F\n",
      "-----------------------------------\n",
      "level 2.0000 18.0000  1.8100 0.1922\n",
      "===================================\n",
      "\n"
     ]
    }
   ],
   "source": [
    "print(res2.fit())"
   ]
  },
  {
   "cell_type": "code",
   "execution_count": 18,
   "metadata": {},
   "outputs": [
    {
     "name": "stdout",
     "output_type": "stream",
     "text": [
      "<statsmodels.stats.anova.AnovaRM object at 0x0000012D87EDED30>\n"
     ]
    }
   ],
   "source": [
    "print(res2)"
   ]
  },
  {
   "cell_type": "code",
   "execution_count": 19,
   "metadata": {},
   "outputs": [],
   "source": [
    "amp_aov_value = cstats.create_df_with_all_anova(a_df, hue='value')\n",
    "amp_aov_index = cstats.create_df_with_all_anova(a_df, hue='index')\n",
    "vit_aov_value = cstats.create_df_with_all_anova(v_df, hue='value')\n",
    "vit_aov_index = cstats.create_df_with_all_anova(v_df, hue='index')"
   ]
  },
  {
   "cell_type": "code",
   "execution_count": 20,
   "metadata": {},
   "outputs": [
    {
     "data": {
      "text/plain": [
       "{'start_cm': <statsmodels.regression.linear_model.RegressionResultsWrapper at 0x12d886c24e0>,\n",
       " 'rel_pt': <statsmodels.regression.linear_model.RegressionResultsWrapper at 0x12d886ba3c8>,\n",
       " 'amp_max_cop': <statsmodels.regression.linear_model.RegressionResultsWrapper at 0x12d886cb668>,\n",
       " 'amp_max_pel': <statsmodels.regression.linear_model.RegressionResultsWrapper at 0x12d886c2f60>,\n",
       " 'amp_max_c7': <statsmodels.regression.linear_model.RegressionResultsWrapper at 0x12d886e40b8>,\n",
       " 'vel_max_cop': <statsmodels.regression.linear_model.RegressionResultsWrapper at 0x12d886d9208>,\n",
       " 'vel_max_pel': <statsmodels.regression.linear_model.RegressionResultsWrapper at 0x12d886ed358>,\n",
       " 'vel_max_c7': <statsmodels.regression.linear_model.RegressionResultsWrapper at 0x12d886edcc0>,\n",
       " 'overshoot': <statsmodels.regression.linear_model.RegressionResultsWrapper at 0x12d886f9630>,\n",
       " 'dcm': <statsmodels.regression.linear_model.RegressionResultsWrapper at 0x12d886f9208>,\n",
       " 'dtml': <statsmodels.regression.linear_model.RegressionResultsWrapper at 0x12d88704860>,\n",
       " 'rcm': <statsmodels.regression.linear_model.RegressionResultsWrapper at 0x12d887047f0>}"
      ]
     },
     "execution_count": 20,
     "metadata": {},
     "output_type": "execute_result"
    }
   ],
   "source": [
    "amp_aov_index[1]"
   ]
  },
  {
   "cell_type": "code",
   "execution_count": null,
   "metadata": {},
   "outputs": [],
   "source": []
  },
  {
   "cell_type": "markdown",
   "metadata": {},
   "source": [
    "## save to excel"
   ]
  },
  {
   "cell_type": "code",
   "execution_count": 21,
   "metadata": {},
   "outputs": [],
   "source": [
    "fileName = 'anova'\n",
    "with pd.ExcelWriter('{}.xlsx'.format(fileName)) as writer:\n",
    "    amp_aov_value[0].to_excel(writer, sheet_name = 'amp_value')\n",
    "    amp_aov_index[0].to_excel(writer, sheet_name = 'amp_index')\n",
    "    vit_aov_value[0].to_excel(writer, sheet_name = 'vit_value')\n",
    "    vit_aov_index[0].to_excel(writer, sheet_name = 'vit_index')"
   ]
  },
  {
   "cell_type": "markdown",
   "metadata": {},
   "source": [
    "## test residual normality"
   ]
  },
  {
   "cell_type": "code",
   "execution_count": 22,
   "metadata": {},
   "outputs": [],
   "source": [
    "amp_aov_shapiro_value = cstats.test_anova_shapiro(a_df)\n",
    "amp_aov_shapiro_index = cstats.test_anova_shapiro(a_df, hue='index')\n",
    "vit_aov_shapiro_value = cstats.test_anova_shapiro(v_df)\n",
    "vit_aov_shapiro_index = cstats.test_anova_shapiro(v_df, hue='index')"
   ]
  },
  {
   "cell_type": "markdown",
   "metadata": {},
   "source": [
    "## save to excel"
   ]
  },
  {
   "cell_type": "code",
   "execution_count": 23,
   "metadata": {},
   "outputs": [],
   "source": [
    "fileName = 'anova_res_shapiro'\n",
    "with pd.ExcelWriter('{}.xlsx'.format(fileName)) as writer:\n",
    "    amp_aov_shapiro_value.to_excel(writer, sheet_name = 'amp_value')\n",
    "    amp_aov_shapiro_index.to_excel(writer, sheet_name = 'amp_index')\n",
    "    vit_aov_shapiro_value.to_excel(writer, sheet_name = 'vit_value')\n",
    "    vit_aov_shapiro_index.to_excel(writer, sheet_name = 'vit_index')\n"
   ]
  },
  {
   "cell_type": "markdown",
   "metadata": {},
   "source": [
    "## post hoc tukey hsd"
   ]
  },
  {
   "cell_type": "code",
   "execution_count": 24,
   "metadata": {},
   "outputs": [],
   "source": [
    "amp_ph_tukeyhsd_value = cstats.create_df_with_all_post_hoc(a_df)\n",
    "amp_ph_tukeyhsd_index = cstats.create_df_with_all_post_hoc(a_df, hue='index')\n",
    "vit_ph_tukeyhsd_value = cstats.create_df_with_all_post_hoc(v_df)\n",
    "vit_ph_tukeyhsd_index = cstats.create_df_with_all_post_hoc(v_df, hue='index')"
   ]
  },
  {
   "cell_type": "code",
   "execution_count": 25,
   "metadata": {},
   "outputs": [
    {
     "data": {
      "text/html": [
       "<div>\n",
       "<style scoped>\n",
       "    .dataframe tbody tr th:only-of-type {\n",
       "        vertical-align: middle;\n",
       "    }\n",
       "\n",
       "    .dataframe tbody tr th {\n",
       "        vertical-align: top;\n",
       "    }\n",
       "\n",
       "    .dataframe thead th {\n",
       "        text-align: right;\n",
       "    }\n",
       "</style>\n",
       "<table border=\"1\" class=\"dataframe\">\n",
       "  <thead>\n",
       "    <tr style=\"text-align: right;\">\n",
       "      <th></th>\n",
       "      <th></th>\n",
       "      <th>group1</th>\n",
       "      <th>group2</th>\n",
       "      <th>meandiff</th>\n",
       "      <th>lower</th>\n",
       "      <th>upper</th>\n",
       "      <th>reject</th>\n",
       "    </tr>\n",
       "  </thead>\n",
       "  <tbody>\n",
       "    <tr>\n",
       "      <th rowspan=\"3\" valign=\"top\">start_cm</th>\n",
       "      <th>comparaison 0</th>\n",
       "      <td>anova ns</td>\n",
       "      <td>anova ns</td>\n",
       "      <td>anova ns</td>\n",
       "      <td>anova ns</td>\n",
       "      <td>anova ns</td>\n",
       "      <td>anova ns</td>\n",
       "    </tr>\n",
       "    <tr>\n",
       "      <th>comparaison 1</th>\n",
       "      <td>anova ns</td>\n",
       "      <td>anova ns</td>\n",
       "      <td>anova ns</td>\n",
       "      <td>anova ns</td>\n",
       "      <td>anova ns</td>\n",
       "      <td>anova ns</td>\n",
       "    </tr>\n",
       "    <tr>\n",
       "      <th>comparaison 2</th>\n",
       "      <td>anova ns</td>\n",
       "      <td>anova ns</td>\n",
       "      <td>anova ns</td>\n",
       "      <td>anova ns</td>\n",
       "      <td>anova ns</td>\n",
       "      <td>anova ns</td>\n",
       "    </tr>\n",
       "    <tr>\n",
       "      <th rowspan=\"3\" valign=\"top\">rel_pt</th>\n",
       "      <th>comparaison 0</th>\n",
       "      <td>anova ns</td>\n",
       "      <td>anova ns</td>\n",
       "      <td>anova ns</td>\n",
       "      <td>anova ns</td>\n",
       "      <td>anova ns</td>\n",
       "      <td>anova ns</td>\n",
       "    </tr>\n",
       "    <tr>\n",
       "      <th>comparaison 1</th>\n",
       "      <td>anova ns</td>\n",
       "      <td>anova ns</td>\n",
       "      <td>anova ns</td>\n",
       "      <td>anova ns</td>\n",
       "      <td>anova ns</td>\n",
       "      <td>anova ns</td>\n",
       "    </tr>\n",
       "    <tr>\n",
       "      <th>comparaison 2</th>\n",
       "      <td>anova ns</td>\n",
       "      <td>anova ns</td>\n",
       "      <td>anova ns</td>\n",
       "      <td>anova ns</td>\n",
       "      <td>anova ns</td>\n",
       "      <td>anova ns</td>\n",
       "    </tr>\n",
       "    <tr>\n",
       "      <th rowspan=\"3\" valign=\"top\">amp_max_cop</th>\n",
       "      <th>comparaison 0</th>\n",
       "      <td>0</td>\n",
       "      <td>1</td>\n",
       "      <td>11.003</td>\n",
       "      <td>-1.6066</td>\n",
       "      <td>23.6125</td>\n",
       "      <td>False</td>\n",
       "    </tr>\n",
       "    <tr>\n",
       "      <th>comparaison 1</th>\n",
       "      <td>0</td>\n",
       "      <td>2</td>\n",
       "      <td>13.8906</td>\n",
       "      <td>1.2811</td>\n",
       "      <td>26.5002</td>\n",
       "      <td>True</td>\n",
       "    </tr>\n",
       "    <tr>\n",
       "      <th>comparaison 2</th>\n",
       "      <td>1</td>\n",
       "      <td>2</td>\n",
       "      <td>2.8877</td>\n",
       "      <td>-9.7219</td>\n",
       "      <td>15.4972</td>\n",
       "      <td>False</td>\n",
       "    </tr>\n",
       "    <tr>\n",
       "      <th rowspan=\"3\" valign=\"top\">amp_max_pel</th>\n",
       "      <th>comparaison 0</th>\n",
       "      <td>anova ns</td>\n",
       "      <td>anova ns</td>\n",
       "      <td>anova ns</td>\n",
       "      <td>anova ns</td>\n",
       "      <td>anova ns</td>\n",
       "      <td>anova ns</td>\n",
       "    </tr>\n",
       "    <tr>\n",
       "      <th>comparaison 1</th>\n",
       "      <td>anova ns</td>\n",
       "      <td>anova ns</td>\n",
       "      <td>anova ns</td>\n",
       "      <td>anova ns</td>\n",
       "      <td>anova ns</td>\n",
       "      <td>anova ns</td>\n",
       "    </tr>\n",
       "    <tr>\n",
       "      <th>comparaison 2</th>\n",
       "      <td>anova ns</td>\n",
       "      <td>anova ns</td>\n",
       "      <td>anova ns</td>\n",
       "      <td>anova ns</td>\n",
       "      <td>anova ns</td>\n",
       "      <td>anova ns</td>\n",
       "    </tr>\n",
       "    <tr>\n",
       "      <th rowspan=\"3\" valign=\"top\">amp_max_c7</th>\n",
       "      <th>comparaison 0</th>\n",
       "      <td>anova ns</td>\n",
       "      <td>anova ns</td>\n",
       "      <td>anova ns</td>\n",
       "      <td>anova ns</td>\n",
       "      <td>anova ns</td>\n",
       "      <td>anova ns</td>\n",
       "    </tr>\n",
       "    <tr>\n",
       "      <th>comparaison 1</th>\n",
       "      <td>anova ns</td>\n",
       "      <td>anova ns</td>\n",
       "      <td>anova ns</td>\n",
       "      <td>anova ns</td>\n",
       "      <td>anova ns</td>\n",
       "      <td>anova ns</td>\n",
       "    </tr>\n",
       "    <tr>\n",
       "      <th>comparaison 2</th>\n",
       "      <td>anova ns</td>\n",
       "      <td>anova ns</td>\n",
       "      <td>anova ns</td>\n",
       "      <td>anova ns</td>\n",
       "      <td>anova ns</td>\n",
       "      <td>anova ns</td>\n",
       "    </tr>\n",
       "    <tr>\n",
       "      <th rowspan=\"3\" valign=\"top\">vel_max_cop</th>\n",
       "      <th>comparaison 0</th>\n",
       "      <td>anova ns</td>\n",
       "      <td>anova ns</td>\n",
       "      <td>anova ns</td>\n",
       "      <td>anova ns</td>\n",
       "      <td>anova ns</td>\n",
       "      <td>anova ns</td>\n",
       "    </tr>\n",
       "    <tr>\n",
       "      <th>comparaison 1</th>\n",
       "      <td>anova ns</td>\n",
       "      <td>anova ns</td>\n",
       "      <td>anova ns</td>\n",
       "      <td>anova ns</td>\n",
       "      <td>anova ns</td>\n",
       "      <td>anova ns</td>\n",
       "    </tr>\n",
       "    <tr>\n",
       "      <th>comparaison 2</th>\n",
       "      <td>anova ns</td>\n",
       "      <td>anova ns</td>\n",
       "      <td>anova ns</td>\n",
       "      <td>anova ns</td>\n",
       "      <td>anova ns</td>\n",
       "      <td>anova ns</td>\n",
       "    </tr>\n",
       "    <tr>\n",
       "      <th rowspan=\"3\" valign=\"top\">vel_max_pel</th>\n",
       "      <th>comparaison 0</th>\n",
       "      <td>anova ns</td>\n",
       "      <td>anova ns</td>\n",
       "      <td>anova ns</td>\n",
       "      <td>anova ns</td>\n",
       "      <td>anova ns</td>\n",
       "      <td>anova ns</td>\n",
       "    </tr>\n",
       "    <tr>\n",
       "      <th>comparaison 1</th>\n",
       "      <td>anova ns</td>\n",
       "      <td>anova ns</td>\n",
       "      <td>anova ns</td>\n",
       "      <td>anova ns</td>\n",
       "      <td>anova ns</td>\n",
       "      <td>anova ns</td>\n",
       "    </tr>\n",
       "    <tr>\n",
       "      <th>comparaison 2</th>\n",
       "      <td>anova ns</td>\n",
       "      <td>anova ns</td>\n",
       "      <td>anova ns</td>\n",
       "      <td>anova ns</td>\n",
       "      <td>anova ns</td>\n",
       "      <td>anova ns</td>\n",
       "    </tr>\n",
       "    <tr>\n",
       "      <th rowspan=\"3\" valign=\"top\">vel_max_c7</th>\n",
       "      <th>comparaison 0</th>\n",
       "      <td>anova ns</td>\n",
       "      <td>anova ns</td>\n",
       "      <td>anova ns</td>\n",
       "      <td>anova ns</td>\n",
       "      <td>anova ns</td>\n",
       "      <td>anova ns</td>\n",
       "    </tr>\n",
       "    <tr>\n",
       "      <th>comparaison 1</th>\n",
       "      <td>anova ns</td>\n",
       "      <td>anova ns</td>\n",
       "      <td>anova ns</td>\n",
       "      <td>anova ns</td>\n",
       "      <td>anova ns</td>\n",
       "      <td>anova ns</td>\n",
       "    </tr>\n",
       "    <tr>\n",
       "      <th>comparaison 2</th>\n",
       "      <td>anova ns</td>\n",
       "      <td>anova ns</td>\n",
       "      <td>anova ns</td>\n",
       "      <td>anova ns</td>\n",
       "      <td>anova ns</td>\n",
       "      <td>anova ns</td>\n",
       "    </tr>\n",
       "    <tr>\n",
       "      <th rowspan=\"3\" valign=\"top\">overshoot</th>\n",
       "      <th>comparaison 0</th>\n",
       "      <td>anova ns</td>\n",
       "      <td>anova ns</td>\n",
       "      <td>anova ns</td>\n",
       "      <td>anova ns</td>\n",
       "      <td>anova ns</td>\n",
       "      <td>anova ns</td>\n",
       "    </tr>\n",
       "    <tr>\n",
       "      <th>comparaison 1</th>\n",
       "      <td>anova ns</td>\n",
       "      <td>anova ns</td>\n",
       "      <td>anova ns</td>\n",
       "      <td>anova ns</td>\n",
       "      <td>anova ns</td>\n",
       "      <td>anova ns</td>\n",
       "    </tr>\n",
       "    <tr>\n",
       "      <th>comparaison 2</th>\n",
       "      <td>anova ns</td>\n",
       "      <td>anova ns</td>\n",
       "      <td>anova ns</td>\n",
       "      <td>anova ns</td>\n",
       "      <td>anova ns</td>\n",
       "      <td>anova ns</td>\n",
       "    </tr>\n",
       "    <tr>\n",
       "      <th rowspan=\"3\" valign=\"top\">dcm</th>\n",
       "      <th>comparaison 0</th>\n",
       "      <td>anova ns</td>\n",
       "      <td>anova ns</td>\n",
       "      <td>anova ns</td>\n",
       "      <td>anova ns</td>\n",
       "      <td>anova ns</td>\n",
       "      <td>anova ns</td>\n",
       "    </tr>\n",
       "    <tr>\n",
       "      <th>comparaison 1</th>\n",
       "      <td>anova ns</td>\n",
       "      <td>anova ns</td>\n",
       "      <td>anova ns</td>\n",
       "      <td>anova ns</td>\n",
       "      <td>anova ns</td>\n",
       "      <td>anova ns</td>\n",
       "    </tr>\n",
       "    <tr>\n",
       "      <th>comparaison 2</th>\n",
       "      <td>anova ns</td>\n",
       "      <td>anova ns</td>\n",
       "      <td>anova ns</td>\n",
       "      <td>anova ns</td>\n",
       "      <td>anova ns</td>\n",
       "      <td>anova ns</td>\n",
       "    </tr>\n",
       "    <tr>\n",
       "      <th rowspan=\"3\" valign=\"top\">dtml</th>\n",
       "      <th>comparaison 0</th>\n",
       "      <td>anova ns</td>\n",
       "      <td>anova ns</td>\n",
       "      <td>anova ns</td>\n",
       "      <td>anova ns</td>\n",
       "      <td>anova ns</td>\n",
       "      <td>anova ns</td>\n",
       "    </tr>\n",
       "    <tr>\n",
       "      <th>comparaison 1</th>\n",
       "      <td>anova ns</td>\n",
       "      <td>anova ns</td>\n",
       "      <td>anova ns</td>\n",
       "      <td>anova ns</td>\n",
       "      <td>anova ns</td>\n",
       "      <td>anova ns</td>\n",
       "    </tr>\n",
       "    <tr>\n",
       "      <th>comparaison 2</th>\n",
       "      <td>anova ns</td>\n",
       "      <td>anova ns</td>\n",
       "      <td>anova ns</td>\n",
       "      <td>anova ns</td>\n",
       "      <td>anova ns</td>\n",
       "      <td>anova ns</td>\n",
       "    </tr>\n",
       "    <tr>\n",
       "      <th rowspan=\"3\" valign=\"top\">rcm</th>\n",
       "      <th>comparaison 0</th>\n",
       "      <td>anova ns</td>\n",
       "      <td>anova ns</td>\n",
       "      <td>anova ns</td>\n",
       "      <td>anova ns</td>\n",
       "      <td>anova ns</td>\n",
       "      <td>anova ns</td>\n",
       "    </tr>\n",
       "    <tr>\n",
       "      <th>comparaison 1</th>\n",
       "      <td>anova ns</td>\n",
       "      <td>anova ns</td>\n",
       "      <td>anova ns</td>\n",
       "      <td>anova ns</td>\n",
       "      <td>anova ns</td>\n",
       "      <td>anova ns</td>\n",
       "    </tr>\n",
       "    <tr>\n",
       "      <th>comparaison 2</th>\n",
       "      <td>anova ns</td>\n",
       "      <td>anova ns</td>\n",
       "      <td>anova ns</td>\n",
       "      <td>anova ns</td>\n",
       "      <td>anova ns</td>\n",
       "      <td>anova ns</td>\n",
       "    </tr>\n",
       "  </tbody>\n",
       "</table>\n",
       "</div>"
      ],
      "text/plain": [
       "                             group1    group2  meandiff     lower     upper  \\\n",
       "start_cm    comparaison 0  anova ns  anova ns  anova ns  anova ns  anova ns   \n",
       "            comparaison 1  anova ns  anova ns  anova ns  anova ns  anova ns   \n",
       "            comparaison 2  anova ns  anova ns  anova ns  anova ns  anova ns   \n",
       "rel_pt      comparaison 0  anova ns  anova ns  anova ns  anova ns  anova ns   \n",
       "            comparaison 1  anova ns  anova ns  anova ns  anova ns  anova ns   \n",
       "            comparaison 2  anova ns  anova ns  anova ns  anova ns  anova ns   \n",
       "amp_max_cop comparaison 0         0         1    11.003   -1.6066   23.6125   \n",
       "            comparaison 1         0         2   13.8906    1.2811   26.5002   \n",
       "            comparaison 2         1         2    2.8877   -9.7219   15.4972   \n",
       "amp_max_pel comparaison 0  anova ns  anova ns  anova ns  anova ns  anova ns   \n",
       "            comparaison 1  anova ns  anova ns  anova ns  anova ns  anova ns   \n",
       "            comparaison 2  anova ns  anova ns  anova ns  anova ns  anova ns   \n",
       "amp_max_c7  comparaison 0  anova ns  anova ns  anova ns  anova ns  anova ns   \n",
       "            comparaison 1  anova ns  anova ns  anova ns  anova ns  anova ns   \n",
       "            comparaison 2  anova ns  anova ns  anova ns  anova ns  anova ns   \n",
       "vel_max_cop comparaison 0  anova ns  anova ns  anova ns  anova ns  anova ns   \n",
       "            comparaison 1  anova ns  anova ns  anova ns  anova ns  anova ns   \n",
       "            comparaison 2  anova ns  anova ns  anova ns  anova ns  anova ns   \n",
       "vel_max_pel comparaison 0  anova ns  anova ns  anova ns  anova ns  anova ns   \n",
       "            comparaison 1  anova ns  anova ns  anova ns  anova ns  anova ns   \n",
       "            comparaison 2  anova ns  anova ns  anova ns  anova ns  anova ns   \n",
       "vel_max_c7  comparaison 0  anova ns  anova ns  anova ns  anova ns  anova ns   \n",
       "            comparaison 1  anova ns  anova ns  anova ns  anova ns  anova ns   \n",
       "            comparaison 2  anova ns  anova ns  anova ns  anova ns  anova ns   \n",
       "overshoot   comparaison 0  anova ns  anova ns  anova ns  anova ns  anova ns   \n",
       "            comparaison 1  anova ns  anova ns  anova ns  anova ns  anova ns   \n",
       "            comparaison 2  anova ns  anova ns  anova ns  anova ns  anova ns   \n",
       "dcm         comparaison 0  anova ns  anova ns  anova ns  anova ns  anova ns   \n",
       "            comparaison 1  anova ns  anova ns  anova ns  anova ns  anova ns   \n",
       "            comparaison 2  anova ns  anova ns  anova ns  anova ns  anova ns   \n",
       "dtml        comparaison 0  anova ns  anova ns  anova ns  anova ns  anova ns   \n",
       "            comparaison 1  anova ns  anova ns  anova ns  anova ns  anova ns   \n",
       "            comparaison 2  anova ns  anova ns  anova ns  anova ns  anova ns   \n",
       "rcm         comparaison 0  anova ns  anova ns  anova ns  anova ns  anova ns   \n",
       "            comparaison 1  anova ns  anova ns  anova ns  anova ns  anova ns   \n",
       "            comparaison 2  anova ns  anova ns  anova ns  anova ns  anova ns   \n",
       "\n",
       "                             reject  \n",
       "start_cm    comparaison 0  anova ns  \n",
       "            comparaison 1  anova ns  \n",
       "            comparaison 2  anova ns  \n",
       "rel_pt      comparaison 0  anova ns  \n",
       "            comparaison 1  anova ns  \n",
       "            comparaison 2  anova ns  \n",
       "amp_max_cop comparaison 0     False  \n",
       "            comparaison 1      True  \n",
       "            comparaison 2     False  \n",
       "amp_max_pel comparaison 0  anova ns  \n",
       "            comparaison 1  anova ns  \n",
       "            comparaison 2  anova ns  \n",
       "amp_max_c7  comparaison 0  anova ns  \n",
       "            comparaison 1  anova ns  \n",
       "            comparaison 2  anova ns  \n",
       "vel_max_cop comparaison 0  anova ns  \n",
       "            comparaison 1  anova ns  \n",
       "            comparaison 2  anova ns  \n",
       "vel_max_pel comparaison 0  anova ns  \n",
       "            comparaison 1  anova ns  \n",
       "            comparaison 2  anova ns  \n",
       "vel_max_c7  comparaison 0  anova ns  \n",
       "            comparaison 1  anova ns  \n",
       "            comparaison 2  anova ns  \n",
       "overshoot   comparaison 0  anova ns  \n",
       "            comparaison 1  anova ns  \n",
       "            comparaison 2  anova ns  \n",
       "dcm         comparaison 0  anova ns  \n",
       "            comparaison 1  anova ns  \n",
       "            comparaison 2  anova ns  \n",
       "dtml        comparaison 0  anova ns  \n",
       "            comparaison 1  anova ns  \n",
       "            comparaison 2  anova ns  \n",
       "rcm         comparaison 0  anova ns  \n",
       "            comparaison 1  anova ns  \n",
       "            comparaison 2  anova ns  "
      ]
     },
     "execution_count": 25,
     "metadata": {},
     "output_type": "execute_result"
    }
   ],
   "source": [
    "amp_ph_tukeyhsd_index"
   ]
  },
  {
   "cell_type": "code",
   "execution_count": null,
   "metadata": {},
   "outputs": [],
   "source": []
  },
  {
   "cell_type": "code",
   "execution_count": null,
   "metadata": {},
   "outputs": [],
   "source": []
  },
  {
   "cell_type": "code",
   "execution_count": null,
   "metadata": {},
   "outputs": [],
   "source": []
  },
  {
   "cell_type": "markdown",
   "metadata": {},
   "source": [
    "### save to excel"
   ]
  },
  {
   "cell_type": "code",
   "execution_count": 26,
   "metadata": {},
   "outputs": [],
   "source": [
    "fileName = 'anova_poshoc_tukeyhsd'\n",
    "with pd.ExcelWriter('{}.xlsx'.format(fileName)) as writer:\n",
    "    amp_ph_tukeyhsd_value.to_excel(writer, sheet_name = 'amp_value')\n",
    "    amp_ph_tukeyhsd_index.to_excel(writer, sheet_name = 'amp_index')\n",
    "    vit_ph_tukeyhsd_value.to_excel(writer, sheet_name = 'vit_value')\n",
    "    vit_ph_tukeyhsd_index.to_excel(writer, sheet_name = 'vit_index')"
   ]
  },
  {
   "cell_type": "markdown",
   "metadata": {},
   "source": [
    "## skewness residual"
   ]
  },
  {
   "cell_type": "code",
   "execution_count": 27,
   "metadata": {},
   "outputs": [],
   "source": [
    "amp_res_skew_value = cstats.test_anova_skewness(a_df)\n",
    "amp_res_skew_index = cstats.test_anova_skewness(a_df, hue='index')\n",
    "vit_res_skew_value = cstats.test_anova_skewness(v_df)\n",
    "vit_res_skew_index = cstats.test_anova_skewness(v_df, hue='index')"
   ]
  },
  {
   "cell_type": "markdown",
   "metadata": {},
   "source": [
    "## save to excel"
   ]
  },
  {
   "cell_type": "code",
   "execution_count": 28,
   "metadata": {},
   "outputs": [],
   "source": [
    "fileName = 'anova_residual_skewness'\n",
    "with pd.ExcelWriter('{}.xlsx'.format(fileName)) as writer:\n",
    "    amp_res_skew_value.to_excel(writer, sheet_name = 'amp_value')\n",
    "    amp_res_skew_index.to_excel(writer, sheet_name = 'amp_index')\n",
    "    vit_res_skew_value.to_excel(writer, sheet_name = 'vit_value')\n",
    "    vit_res_skew_index.to_excel(writer, sheet_name = 'vit_index')"
   ]
  },
  {
   "cell_type": "code",
   "execution_count": 29,
   "metadata": {},
   "outputs": [
    {
     "data": {
      "text/plain": [
       "(array([1., 2., 2., 5., 5., 4., 6., 2., 1., 2.]),\n",
       " array([48.5       , 52.01333333, 55.52666667, 59.04      , 62.55333333,\n",
       "        66.06666667, 69.58      , 73.09333333, 76.60666667, 80.12      ,\n",
       "        83.63333333]),\n",
       " <a list of 10 Patch objects>)"
      ]
     },
     "execution_count": 29,
     "metadata": {},
     "output_type": "execute_result"
    },
    {
     "data": {
      "image/png": "[encoded data removed]",
      "text/plain": [
       "<Figure size 432x288 with 1 Axes>"
      ]
     },
     "metadata": {
      "needs_background": "light"
     },
     "output_type": "display_data"
    }
   ],
   "source": [
    "data = cstats.get_data_for_anova(a_df, 'start_cm', 'index')\n",
    "plt.hist(data['start_cm'])"
   ]
  },
  {
   "cell_type": "code",
   "execution_count": 30,
   "metadata": {},
   "outputs": [
    {
     "data": {
      "text/plain": [
       "1.3"
      ]
     },
     "execution_count": 30,
     "metadata": {},
     "output_type": "execute_result"
    }
   ],
   "source": [
    "65/50"
   ]
  },
  {
   "cell_type": "code",
   "execution_count": 31,
   "metadata": {},
   "outputs": [
    {
     "data": {
      "text/html": [
       "<div>\n",
       "<style scoped>\n",
       "    .dataframe tbody tr th:only-of-type {\n",
       "        vertical-align: middle;\n",
       "    }\n",
       "\n",
       "    .dataframe tbody tr th {\n",
       "        vertical-align: top;\n",
       "    }\n",
       "\n",
       "    .dataframe thead tr th {\n",
       "        text-align: left;\n",
       "    }\n",
       "</style>\n",
       "<table border=\"1\" class=\"dataframe\">\n",
       "  <thead>\n",
       "    <tr>\n",
       "      <th></th>\n",
       "      <th colspan=\"2\" halign=\"left\">start_cm</th>\n",
       "      <th colspan=\"2\" halign=\"left\">rel_pt</th>\n",
       "      <th colspan=\"2\" halign=\"left\">amp_max_cop</th>\n",
       "      <th colspan=\"2\" halign=\"left\">amp_max_pel</th>\n",
       "      <th colspan=\"2\" halign=\"left\">amp_max_c7</th>\n",
       "      <th>...</th>\n",
       "      <th colspan=\"2\" halign=\"left\">vel_max_c7</th>\n",
       "      <th colspan=\"2\" halign=\"left\">overshoot</th>\n",
       "      <th colspan=\"2\" halign=\"left\">dcm</th>\n",
       "      <th colspan=\"2\" halign=\"left\">dtml</th>\n",
       "      <th colspan=\"2\" halign=\"left\">rcm</th>\n",
       "    </tr>\n",
       "    <tr>\n",
       "      <th></th>\n",
       "      <th>index</th>\n",
       "      <th>value</th>\n",
       "      <th>index</th>\n",
       "      <th>value</th>\n",
       "      <th>index</th>\n",
       "      <th>value</th>\n",
       "      <th>index</th>\n",
       "      <th>value</th>\n",
       "      <th>index</th>\n",
       "      <th>value</th>\n",
       "      <th>...</th>\n",
       "      <th>index</th>\n",
       "      <th>value</th>\n",
       "      <th>index</th>\n",
       "      <th>value</th>\n",
       "      <th>index</th>\n",
       "      <th>value</th>\n",
       "      <th>index</th>\n",
       "      <th>value</th>\n",
       "      <th>index</th>\n",
       "      <th>value</th>\n",
       "    </tr>\n",
       "  </thead>\n",
       "  <tbody>\n",
       "    <tr>\n",
       "      <th>count</th>\n",
       "      <td>873.000000</td>\n",
       "      <td>873.000000</td>\n",
       "      <td>873.000000</td>\n",
       "      <td>873.000000</td>\n",
       "      <td>873.000000</td>\n",
       "      <td>873.000000</td>\n",
       "      <td>873.000000</td>\n",
       "      <td>873.000000</td>\n",
       "      <td>873.000000</td>\n",
       "      <td>873.000000</td>\n",
       "      <td>...</td>\n",
       "      <td>873.000000</td>\n",
       "      <td>873.000000</td>\n",
       "      <td>873.000000</td>\n",
       "      <td>873.000000</td>\n",
       "      <td>873.000000</td>\n",
       "      <td>873.000000</td>\n",
       "      <td>873.000000</td>\n",
       "      <td>873.000000</td>\n",
       "      <td>873.000000</td>\n",
       "      <td>873.000000</td>\n",
       "    </tr>\n",
       "    <tr>\n",
       "      <th>mean</th>\n",
       "      <td>65.183276</td>\n",
       "      <td>0.003032</td>\n",
       "      <td>108.918671</td>\n",
       "      <td>-0.026069</td>\n",
       "      <td>157.915235</td>\n",
       "      <td>0.086114</td>\n",
       "      <td>171.548683</td>\n",
       "      <td>0.042430</td>\n",
       "      <td>171.197022</td>\n",
       "      <td>0.060726</td>\n",
       "      <td>...</td>\n",
       "      <td>120.248568</td>\n",
       "      <td>0.000210</td>\n",
       "      <td>82.570447</td>\n",
       "      <td>0.087747</td>\n",
       "      <td>43.735395</td>\n",
       "      <td>0.029101</td>\n",
       "      <td>68.065292</td>\n",
       "      <td>0.045475</td>\n",
       "      <td>0.606549</td>\n",
       "      <td>0.736809</td>\n",
       "    </tr>\n",
       "    <tr>\n",
       "      <th>std</th>\n",
       "      <td>31.544069</td>\n",
       "      <td>0.007907</td>\n",
       "      <td>9.601296</td>\n",
       "      <td>0.015242</td>\n",
       "      <td>21.079571</td>\n",
       "      <td>0.020968</td>\n",
       "      <td>25.295641</td>\n",
       "      <td>0.019056</td>\n",
       "      <td>25.996341</td>\n",
       "      <td>0.028300</td>\n",
       "      <td>...</td>\n",
       "      <td>9.075187</td>\n",
       "      <td>0.000410</td>\n",
       "      <td>11.680372</td>\n",
       "      <td>0.022479</td>\n",
       "      <td>30.370870</td>\n",
       "      <td>0.017569</td>\n",
       "      <td>33.144376</td>\n",
       "      <td>0.010424</td>\n",
       "      <td>0.272653</td>\n",
       "      <td>0.980030</td>\n",
       "    </tr>\n",
       "    <tr>\n",
       "      <th>min</th>\n",
       "      <td>15.000000</td>\n",
       "      <td>-0.023674</td>\n",
       "      <td>29.000000</td>\n",
       "      <td>-0.099596</td>\n",
       "      <td>104.000000</td>\n",
       "      <td>0.011781</td>\n",
       "      <td>50.000000</td>\n",
       "      <td>-0.012619</td>\n",
       "      <td>50.000000</td>\n",
       "      <td>-0.021693</td>\n",
       "      <td>...</td>\n",
       "      <td>41.000000</td>\n",
       "      <td>-0.000573</td>\n",
       "      <td>34.000000</td>\n",
       "      <td>0.009719</td>\n",
       "      <td>3.000000</td>\n",
       "      <td>0.000177</td>\n",
       "      <td>15.000000</td>\n",
       "      <td>0.000258</td>\n",
       "      <td>0.038462</td>\n",
       "      <td>0.021878</td>\n",
       "    </tr>\n",
       "    <tr>\n",
       "      <th>25%</th>\n",
       "      <td>32.000000</td>\n",
       "      <td>0.000185</td>\n",
       "      <td>106.000000</td>\n",
       "      <td>-0.034894</td>\n",
       "      <td>142.000000</td>\n",
       "      <td>0.072809</td>\n",
       "      <td>156.000000</td>\n",
       "      <td>0.030141</td>\n",
       "      <td>156.000000</td>\n",
       "      <td>0.042896</td>\n",
       "      <td>...</td>\n",
       "      <td>117.000000</td>\n",
       "      <td>0.000016</td>\n",
       "      <td>77.000000</td>\n",
       "      <td>0.073911</td>\n",
       "      <td>18.000000</td>\n",
       "      <td>0.017414</td>\n",
       "      <td>41.000000</td>\n",
       "      <td>0.039225</td>\n",
       "      <td>0.457143</td>\n",
       "      <td>0.381939</td>\n",
       "    </tr>\n",
       "    <tr>\n",
       "      <th>50%</th>\n",
       "      <td>79.000000</td>\n",
       "      <td>0.002407</td>\n",
       "      <td>109.000000</td>\n",
       "      <td>-0.023164</td>\n",
       "      <td>157.000000</td>\n",
       "      <td>0.085332</td>\n",
       "      <td>174.000000</td>\n",
       "      <td>0.043532</td>\n",
       "      <td>171.000000</td>\n",
       "      <td>0.060157</td>\n",
       "      <td>...</td>\n",
       "      <td>120.000000</td>\n",
       "      <td>0.000081</td>\n",
       "      <td>84.000000</td>\n",
       "      <td>0.088058</td>\n",
       "      <td>30.000000</td>\n",
       "      <td>0.024819</td>\n",
       "      <td>55.000000</td>\n",
       "      <td>0.045685</td>\n",
       "      <td>0.594937</td>\n",
       "      <td>0.562187</td>\n",
       "    </tr>\n",
       "    <tr>\n",
       "      <th>75%</th>\n",
       "      <td>91.000000</td>\n",
       "      <td>0.005827</td>\n",
       "      <td>112.000000</td>\n",
       "      <td>-0.014739</td>\n",
       "      <td>174.000000</td>\n",
       "      <td>0.100216</td>\n",
       "      <td>187.000000</td>\n",
       "      <td>0.056379</td>\n",
       "      <td>187.000000</td>\n",
       "      <td>0.079607</td>\n",
       "      <td>...</td>\n",
       "      <td>123.000000</td>\n",
       "      <td>0.000224</td>\n",
       "      <td>91.000000</td>\n",
       "      <td>0.102310</td>\n",
       "      <td>74.000000</td>\n",
       "      <td>0.036472</td>\n",
       "      <td>102.000000</td>\n",
       "      <td>0.052563</td>\n",
       "      <td>0.746032</td>\n",
       "      <td>0.816287</td>\n",
       "    </tr>\n",
       "    <tr>\n",
       "      <th>max</th>\n",
       "      <td>151.000000</td>\n",
       "      <td>0.127797</td>\n",
       "      <td>164.000000</td>\n",
       "      <td>-0.000060</td>\n",
       "      <td>205.000000</td>\n",
       "      <td>0.145653</td>\n",
       "      <td>205.000000</td>\n",
       "      <td>0.091444</td>\n",
       "      <td>205.000000</td>\n",
       "      <td>0.158264</td>\n",
       "      <td>...</td>\n",
       "      <td>175.000000</td>\n",
       "      <td>0.003207</td>\n",
       "      <td>99.000000</td>\n",
       "      <td>0.149919</td>\n",
       "      <td>111.000000</td>\n",
       "      <td>0.173716</td>\n",
       "      <td>152.000000</td>\n",
       "      <td>0.076446</td>\n",
       "      <td>5.333333</td>\n",
       "      <td>15.432318</td>\n",
       "    </tr>\n",
       "  </tbody>\n",
       "</table>\n",
       "<p>8 rows × 24 columns</p>\n",
       "</div>"
      ],
      "text/plain": [
       "         start_cm                  rel_pt             amp_max_cop              \\\n",
       "            index       value       index       value       index       value   \n",
       "count  873.000000  873.000000  873.000000  873.000000  873.000000  873.000000   \n",
       "mean    65.183276    0.003032  108.918671   -0.026069  157.915235    0.086114   \n",
       "std     31.544069    0.007907    9.601296    0.015242   21.079571    0.020968   \n",
       "min     15.000000   -0.023674   29.000000   -0.099596  104.000000    0.011781   \n",
       "25%     32.000000    0.000185  106.000000   -0.034894  142.000000    0.072809   \n",
       "50%     79.000000    0.002407  109.000000   -0.023164  157.000000    0.085332   \n",
       "75%     91.000000    0.005827  112.000000   -0.014739  174.000000    0.100216   \n",
       "max    151.000000    0.127797  164.000000   -0.000060  205.000000    0.145653   \n",
       "\n",
       "      amp_max_pel              amp_max_c7              ...  vel_max_c7  \\\n",
       "            index       value       index       value  ...       index   \n",
       "count  873.000000  873.000000  873.000000  873.000000  ...  873.000000   \n",
       "mean   171.548683    0.042430  171.197022    0.060726  ...  120.248568   \n",
       "std     25.295641    0.019056   25.996341    0.028300  ...    9.075187   \n",
       "min     50.000000   -0.012619   50.000000   -0.021693  ...   41.000000   \n",
       "25%    156.000000    0.030141  156.000000    0.042896  ...  117.000000   \n",
       "50%    174.000000    0.043532  171.000000    0.060157  ...  120.000000   \n",
       "75%    187.000000    0.056379  187.000000    0.079607  ...  123.000000   \n",
       "max    205.000000    0.091444  205.000000    0.158264  ...  175.000000   \n",
       "\n",
       "                    overshoot                     dcm                    dtml  \\\n",
       "            value       index       value       index       value       index   \n",
       "count  873.000000  873.000000  873.000000  873.000000  873.000000  873.000000   \n",
       "mean     0.000210   82.570447    0.087747   43.735395    0.029101   68.065292   \n",
       "std      0.000410   11.680372    0.022479   30.370870    0.017569   33.144376   \n",
       "min     -0.000573   34.000000    0.009719    3.000000    0.000177   15.000000   \n",
       "25%      0.000016   77.000000    0.073911   18.000000    0.017414   41.000000   \n",
       "50%      0.000081   84.000000    0.088058   30.000000    0.024819   55.000000   \n",
       "75%      0.000224   91.000000    0.102310   74.000000    0.036472  102.000000   \n",
       "max      0.003207   99.000000    0.149919  111.000000    0.173716  152.000000   \n",
       "\n",
       "                          rcm              \n",
       "            value       index       value  \n",
       "count  873.000000  873.000000  873.000000  \n",
       "mean     0.045475    0.606549    0.736809  \n",
       "std      0.010424    0.272653    0.980030  \n",
       "min      0.000258    0.038462    0.021878  \n",
       "25%      0.039225    0.457143    0.381939  \n",
       "50%      0.045685    0.594937    0.562187  \n",
       "75%      0.052563    0.746032    0.816287  \n",
       "max      0.076446    5.333333   15.432318  \n",
       "\n",
       "[8 rows x 24 columns]"
      ]
     },
     "execution_count": 31,
     "metadata": {},
     "output_type": "execute_result"
    }
   ],
   "source": [
    "v_df.describe()"
   ]
  },
  {
   "cell_type": "code",
   "execution_count": 32,
   "metadata": {},
   "outputs": [],
   "source": [
    "a=[1,2,3,4]\n",
    "b = ['a', 'b', 'c', 'd']\n"
   ]
  },
  {
   "cell_type": "code",
   "execution_count": 33,
   "metadata": {},
   "outputs": [
    {
     "name": "stdout",
     "output_type": "stream",
     "text": [
      "(1, 'a')\n",
      "(2, 'b')\n",
      "(3, 'c')\n",
      "(4, 'd')\n"
     ]
    }
   ],
   "source": [
    "for c in zip(a,b):\n",
    "    print(c)"
   ]
  },
  {
   "cell_type": "code",
   "execution_count": 34,
   "metadata": {},
   "outputs": [
    {
     "ename": "NameError",
     "evalue": "name 'line_plot_3_joints' is not defined",
     "output_type": "error",
     "traceback": [
      "\u001b[1;31m---------------------------------------------------------------------------\u001b[0m",
      "\u001b[1;31mNameError\u001b[0m                                 Traceback (most recent call last)",
      "\u001b[1;32m<ipython-input-34-de452de691d7>\u001b[0m in \u001b[0;36m<module>\u001b[1;34m\u001b[0m\n\u001b[1;32m----> 1\u001b[1;33m \u001b[0mline_plot_3_joints\u001b[0m\u001b[1;33m(\u001b[0m\u001b[0mv_jt_full_df\u001b[0m\u001b[1;33m)\u001b[0m\u001b[1;33m\u001b[0m\u001b[0m\n\u001b[0m\u001b[0;32m      2\u001b[0m \u001b[0mline_plot_3_joints\u001b[0m\u001b[1;33m(\u001b[0m\u001b[0ma_jt_full_df\u001b[0m\u001b[1;33m,\u001b[0m \u001b[0mdt\u001b[0m\u001b[1;33m=\u001b[0m\u001b[1;34m'amplitude'\u001b[0m\u001b[1;33m)\u001b[0m\u001b[1;33m\u001b[0m\u001b[0m\n",
      "\u001b[1;31mNameError\u001b[0m: name 'line_plot_3_joints' is not defined"
     ]
    }
   ],
   "source": [
    "line_plot_3_joints(v_jt_full_df)\n",
    "line_plot_3_joints(a_jt_full_df, dt='amplitude')"
   ]
  },
  {
   "cell_type": "code",
   "execution_count": 126,
   "metadata": {},
   "outputs": [],
   "source": [
    "def line_plot_3_joints(df_full_jt,  M=None, m=None, save=True, name='triple joint plot - {}', dt='vitesse'): \n",
    "    from matplotlib.patches import Patch\n",
    "    \n",
    "    SMALL_SIZE = 14\n",
    "    MEDIUM_SIZE = 18\n",
    "    BIGGER_SIZE = 20\n",
    "\n",
    "    plt.rc('font', size=SMALL_SIZE)          # controls default text sizes\n",
    "    plt.rc('axes', titlesize=SMALL_SIZE)     # fontsize of the axes title\n",
    "    plt.rc('axes', labelsize=MEDIUM_SIZE)    # fontsize of the x and y labels\n",
    "    plt.rc('xtick', labelsize=SMALL_SIZE)    # fontsize of the tick labels\n",
    "    plt.rc('ytick', labelsize=SMALL_SIZE)    # fontsize of the tick labels\n",
    "    plt.rc('legend', fontsize=SMALL_SIZE)    # legend fontsize\n",
    "    plt.rc('figure', titlesize=BIGGER_SIZE) \n",
    "    \n",
    "    df = cvis.transform_data_for_lineplot(df_full_jt)\n",
    "    cop = df[df['data_type']=='cof']\n",
    "    pelvis = df[df['data_type']=='pelvis']\n",
    "    c7 = df[df['data_type']=='c7']\n",
    "\n",
    "    fig, axes = plt.subplots(nrows=3, ncols=1, sharex=True, constrained_layout=True)\n",
    "    \n",
    "    if M is None or m is None:\n",
    "        M = max(cop['value'].max(),pelvis['value'].max(), c7['value'].max())\n",
    "        m = min(cop['value'].min(),pelvis['value'].min(), c7['value'].min())\n",
    "\n",
    "    fig.set_size_inches(10, 6.5)\n",
    "    ax_ = sns.lineplot(x='time', y='value', hue='level',hue_order=['lvl_0', 'lvl_1', 'lvl_2'], ci='sd', data=c7, ax = axes[0], legend='full')\n",
    "    change_style_jt_dt(ax_, 'r', '-.')\n",
    "    ax_ = sns.lineplot(x='time', y='value', hue='level', ci='sd', data=pelvis, ax = axes[1], legend='full')\n",
    "    change_style_jt_dt(ax_, 'b', '--')\n",
    "    ax_ = sns.lineplot(x='time', y='value', hue='level', ci='sd', data=cop, ax = axes[2], legend='full')\n",
    "    change_style_jt_dt(ax_, 'k', '-')\n",
    "\n",
    "    axes[0].set_ylim([m-0.005, M+0.005])\n",
    "    axes[1].set_ylim([m-0.005, M+0.005])\n",
    "    axes[2].set_ylim([m-0.005, M+0.005])\n",
    "\n",
    "    axes[0].set_ylabel('Ms{} (m)'.format(u'\\u2096'))\n",
    "    axes[1].set_ylabel('Sb{} (m)'.format(u'\\u2096'))\n",
    "    axes[2].set_ylabel('CdP (m)')\n",
    "    \n",
    "    #defining patch instead of line in legend\n",
    "    patch_1 = Patch(color='b', alpha = 0.3, edgecolor=None)\n",
    "    patch_2 = Patch(color='C1', alpha = 0.3, edgecolor=None)\n",
    "    patch_3 = Patch(color='g', alpha = 0.3, edgecolor=None)\n",
    "    \n",
    "    #legend set up \n",
    "    \"\"\"https://stackoverflow.com/questions/4700614/how-to-put-the-legend-out-of-the-plot\"\"\"\n",
    "    L = axes[1].legend(handles = [patch_1, patch_2, patch_3], loc='center left', bbox_to_anchor = (1.04, 0.5), fancybox=True, shadow=True, ncol=1, title=\"Légende\")\n",
    "    L.get_texts()[0].set_text('Niveau 1')\n",
    "    L.get_texts()[1].set_text('Niveau 2')\n",
    "    L.get_texts()[2].set_text('Niveau 3')\n",
    "    \n",
    "    \n",
    "    plt.xlabel('Temps (s)')\n",
    "    plt.xlim([0,400])\n",
    "    hticks = axes[2].get_xticks()\n",
    "    hticks = list(str(round((t/50),3)) for t in hticks) #convertir en seconde\n",
    "    axes[2].set_xticklabels(hticks)\n",
    "    \n",
    "    #adding title \n",
    "#     plt.suptitle('Dynamique du tML dans la condition {}'.format(dt), y=1.01)\n",
    "    \"\"\"from : https://stackoverflow.com/questions/12750355/python-matplotlib-figure-title-overlaps-axes-label-when-using-twiny\"\"\"\n",
    "#     title_text='Dynamique du tML dans la condition {}'.format(dt)\n",
    "#     axes[0].text(0.5, 1.08, title_text,\n",
    "#          horizontalalignment='center',\n",
    "#          fontsize=20,\n",
    "#          transform = axes[0].transAxes)\n",
    "    plt.tight_layout()\n",
    "\n",
    "    \n",
    "    if save:\n",
    "        cwd = os.getcwd().replace('\\\\', '/')\n",
    "        png_name = cwd + '/graphique_cine/{}/{}.png'.format(dt, name)\n",
    "        plt.savefig(png_name, dpi=1000)"
   ]
  },
  {
   "cell_type": "code",
   "execution_count": 119,
   "metadata": {},
   "outputs": [],
   "source": [
    "def line_plot_2_angle(df_full_angle, save=True, name='angle plot - {}', dt='vitesse'): \n",
    "    df = cvis.transform_data_for_lineplot(df_full_angle)\n",
    "    teta1 = df[df['data_type']=='teta1']\n",
    "    teta2 = df[df['data_type']=='teta2']\n",
    "\n",
    "    \n",
    "    fig, ax = plt.subplots(nrows=1, ncols=1 )\n",
    "    M = max(teta1['value'].max(), teta2['value'].max())\n",
    "    m = min(teta1['value'].min(), teta2['value'].min())\n",
    "\n",
    "    fig.set_size_inches(18.5, 10)\n",
    "    ax = sns.lineplot(x='time', y='value', hue='level', ci = 'sd', style = 'data_type', data = df, ax=ax)\n",
    "    change_style(ax)\n",
    "    ax.set_ylim([m-0.005, M+0.005])\n",
    "\n",
    "    ax.set_ylabel('degrée')\n",
    "\n",
    "    plt.xlabel('Temps (s)')\n",
    "\n",
    "    hticks = ax.get_xticks()\n",
    "    hticks = list(str(round((t/50),3))[:5] for t in hticks) #convertir en seconde\n",
    "    ax.set_xticklabels(hticks)\n",
    "    plt.xlim([0,400])\n",
    "    \n",
    "    plt.suptitle('Cinématique des angles de la condition {}'.format(dt), fontsize=26, y=1.02)\n",
    "    \n",
    "    plt.tight_layout()\n",
    "\n",
    "    \n",
    "    if save:\n",
    "        cwd = os.getcwd().replace('\\\\', '/')\n",
    "        png_name = cwd + '/graphique_cine/{}/{}.png'.format(dt, name)\n",
    "        plt.savefig(png_name, dpi=1000)\n",
    "        "
   ]
  },
  {
   "cell_type": "code",
   "execution_count": 120,
   "metadata": {},
   "outputs": [],
   "source": [
    "def get_min_max_kin(jt_full_df):\n",
    "    df = cvis.transform_data_for_lineplot(jt_full_df)\n",
    "    cop = df[df['data_type']=='cof']\n",
    "    pelvis = df[df['data_type']=='pelvis']\n",
    "    c7 = df[df['data_type']=='c7']\n",
    "\n",
    "    fig, axes = plt.subplots(nrows=3, ncols=1, sharex=True)\n",
    "    M = max(cop['value'].max(),pelvis['value'].max(), c7['value'].max())\n",
    "    m = min(cop['value'].min(),pelvis['value'].min(), c7['value'].min())\n",
    "    return M, m"
   ]
  },
  {
   "cell_type": "code",
   "execution_count": 121,
   "metadata": {},
   "outputs": [
    {
     "name": "stdout",
     "output_type": "stream",
     "text": [
      "(1289, 2700)\n",
      "(1289, 2700)\n",
      "(1289, 2700)\n"
     ]
    }
   ],
   "source": [
    "df_full_jt = a_jt_full_df\n",
    "df = cvis.transform_data_for_lineplot(df_full_jt)\n",
    "cop = df[df['data_type']=='cof']\n",
    "pelvis = df[df['data_type']=='pelvis']\n",
    "c7 = df[df['data_type']=='c7']"
   ]
  },
  {
   "cell_type": "code",
   "execution_count": 122,
   "metadata": {},
   "outputs": [
    {
     "data": {
      "text/html": [
       "<div>\n",
       "<style scoped>\n",
       "    .dataframe tbody tr th:only-of-type {\n",
       "        vertical-align: middle;\n",
       "    }\n",
       "\n",
       "    .dataframe tbody tr th {\n",
       "        vertical-align: top;\n",
       "    }\n",
       "\n",
       "    .dataframe thead th {\n",
       "        text-align: right;\n",
       "    }\n",
       "</style>\n",
       "<table border=\"1\" class=\"dataframe\">\n",
       "  <thead>\n",
       "    <tr style=\"text-align: right;\">\n",
       "      <th></th>\n",
       "      <th>time</th>\n",
       "      <th>players</th>\n",
       "      <th>level</th>\n",
       "      <th>data_type</th>\n",
       "      <th>value</th>\n",
       "    </tr>\n",
       "  </thead>\n",
       "  <tbody>\n",
       "    <tr>\n",
       "      <th>0</th>\n",
       "      <td>0</td>\n",
       "      <td>player_0</td>\n",
       "      <td>lvl_0</td>\n",
       "      <td>cof</td>\n",
       "      <td>-0.001095</td>\n",
       "    </tr>\n",
       "    <tr>\n",
       "      <th>1</th>\n",
       "      <td>1</td>\n",
       "      <td>player_0</td>\n",
       "      <td>lvl_0</td>\n",
       "      <td>cof</td>\n",
       "      <td>-0.001046</td>\n",
       "    </tr>\n",
       "    <tr>\n",
       "      <th>2</th>\n",
       "      <td>2</td>\n",
       "      <td>player_0</td>\n",
       "      <td>lvl_0</td>\n",
       "      <td>cof</td>\n",
       "      <td>-0.001008</td>\n",
       "    </tr>\n",
       "    <tr>\n",
       "      <th>3</th>\n",
       "      <td>3</td>\n",
       "      <td>player_0</td>\n",
       "      <td>lvl_0</td>\n",
       "      <td>cof</td>\n",
       "      <td>-0.000983</td>\n",
       "    </tr>\n",
       "    <tr>\n",
       "      <th>4</th>\n",
       "      <td>4</td>\n",
       "      <td>player_0</td>\n",
       "      <td>lvl_0</td>\n",
       "      <td>cof</td>\n",
       "      <td>-0.000971</td>\n",
       "    </tr>\n",
       "  </tbody>\n",
       "</table>\n",
       "</div>"
      ],
      "text/plain": [
       "   time   players  level data_type     value\n",
       "0     0  player_0  lvl_0       cof -0.001095\n",
       "1     1  player_0  lvl_0       cof -0.001046\n",
       "2     2  player_0  lvl_0       cof -0.001008\n",
       "3     3  player_0  lvl_0       cof -0.000983\n",
       "4     4  player_0  lvl_0       cof -0.000971"
      ]
     },
     "execution_count": 122,
     "metadata": {},
     "output_type": "execute_result"
    }
   ],
   "source": [
    "df.head()"
   ]
  },
  {
   "cell_type": "code",
   "execution_count": null,
   "metadata": {},
   "outputs": [],
   "source": []
  },
  {
   "cell_type": "code",
   "execution_count": null,
   "metadata": {},
   "outputs": [],
   "source": []
  },
  {
   "cell_type": "code",
   "execution_count": null,
   "metadata": {},
   "outputs": [],
   "source": []
  },
  {
   "cell_type": "code",
   "execution_count": 127,
   "metadata": {},
   "outputs": [
    {
     "name": "stdout",
     "output_type": "stream",
     "text": [
      "(1361, 2700)\n",
      "(1361, 2700)\n",
      "(1361, 2700)\n",
      "(1289, 2700)\n",
      "(1289, 2700)\n",
      "(1289, 2700)\n",
      "(1289, 2700)\n",
      "(1289, 2700)\n",
      "(1289, 2700)\n"
     ]
    },
    {
     "name": "stderr",
     "output_type": "stream",
     "text": [
      "C:\\Users\\tousi\\AppData\\Local\\conda\\conda\\envs\\python37\\lib\\site-packages\\matplotlib\\figure.py:2144: UserWarning: This figure was using constrained_layout==True, but that is incompatible with subplots_adjust and or tight_layout: setting constrained_layout==False. \n",
      "  warnings.warn(\"This figure was using constrained_layout==True, \"\n"
     ]
    },
    {
     "name": "stdout",
     "output_type": "stream",
     "text": [
      "(1361, 2700)\n",
      "(1361, 2700)\n",
      "(1361, 2700)\n"
     ]
    },
    {
     "name": "stderr",
     "output_type": "stream",
     "text": [
      "C:\\Users\\tousi\\AppData\\Local\\conda\\conda\\envs\\python37\\lib\\site-packages\\matplotlib\\figure.py:2144: UserWarning: This figure was using constrained_layout==True, but that is incompatible with subplots_adjust and or tight_layout: setting constrained_layout==False. \n",
      "  warnings.warn(\"This figure was using constrained_layout==True, \"\n"
     ]
    },
    {
     "data": {
      "image/png": "[encoded data removed]",
      "text/plain": [
       "<Figure size 432x288 with 3 Axes>"
      ]
     },
     "metadata": {
      "needs_background": "light"
     },
     "output_type": "display_data"
    },
    {
     "data": {
      "image/png": "[encoded data removed]",
      "text/plain": [
       "<Figure size 432x288 with 3 Axes>"
      ]
     },
     "metadata": {
      "needs_background": "light"
     },
     "output_type": "display_data"
    },
    {
     "data": {
      "image/png": "[encoded data removed]",
      "text/plain": [
       "<Figure size 720x468 with 3 Axes>"
      ]
     },
     "metadata": {
      "needs_background": "light"
     },
     "output_type": "display_data"
    },
    {
     "data": {
      "image/png": "[encoded data removed]",
      "text/plain": [
       "<Figure size 720x468 with 3 Axes>"
      ]
     },
     "metadata": {
      "needs_background": "light"
     },
     "output_type": "display_data"
    }
   ],
   "source": [
    "M_v,m_v = get_min_max_kin(v_jt_full_df)\n",
    "M_a,m_a = get_min_max_kin(a_jt_full_df)\n",
    "M = max(M_v,M_a)\n",
    "m = min(m_v,m_a)\n",
    "line_plot_3_joints(a_jt_full_df, M=M, m=m, dt='amplitude', save=True)\n",
    "line_plot_3_joints(v_jt_full_df, M=M, m=m, save=True)\n"
   ]
  },
  {
   "cell_type": "code",
   "execution_count": 23,
   "metadata": {},
   "outputs": [
    {
     "name": "stdout",
     "output_type": "stream",
     "text": [
      "(225, 2700)\n",
      "(225, 2700)\n",
      "(225, 2700)\n"
     ]
    },
    {
     "ename": "TypeError",
     "evalue": "change_style_jt_dt() missing 1 required positional argument: 'lsty'",
     "output_type": "error",
     "traceback": [
      "\u001b[1;31m---------------------------------------------------------------------------\u001b[0m",
      "\u001b[1;31mTypeError\u001b[0m                                 Traceback (most recent call last)",
      "\u001b[1;32m<ipython-input-23-44e231e0fe48>\u001b[0m in \u001b[0;36m<module>\u001b[1;34m\u001b[0m\n\u001b[0;32m      3\u001b[0m \u001b[1;33m\u001b[0m\u001b[0m\n\u001b[0;32m      4\u001b[0m \u001b[0max\u001b[0m \u001b[1;33m=\u001b[0m \u001b[0msns\u001b[0m\u001b[1;33m.\u001b[0m\u001b[0mlineplot\u001b[0m\u001b[1;33m(\u001b[0m\u001b[0mx\u001b[0m\u001b[1;33m=\u001b[0m\u001b[1;34m'time'\u001b[0m\u001b[1;33m,\u001b[0m \u001b[0my\u001b[0m\u001b[1;33m=\u001b[0m\u001b[1;34m'value'\u001b[0m\u001b[1;33m,\u001b[0m \u001b[0mhue\u001b[0m\u001b[1;33m=\u001b[0m\u001b[1;34m'level'\u001b[0m\u001b[1;33m,\u001b[0m \u001b[0mci\u001b[0m\u001b[1;33m=\u001b[0m\u001b[1;34m'sd'\u001b[0m\u001b[1;33m,\u001b[0m \u001b[0mstyle\u001b[0m \u001b[1;33m=\u001b[0m \u001b[1;34m'data_type'\u001b[0m\u001b[1;33m,\u001b[0m \u001b[0mdata\u001b[0m\u001b[1;33m=\u001b[0m\u001b[0mc7\u001b[0m\u001b[1;33m)\u001b[0m\u001b[1;33m\u001b[0m\u001b[0m\n\u001b[1;32m----> 5\u001b[1;33m \u001b[0mchange_style_jt_dt\u001b[0m\u001b[1;33m(\u001b[0m\u001b[0max\u001b[0m\u001b[1;33m,\u001b[0m \u001b[1;34m'r'\u001b[0m\u001b[1;33m)\u001b[0m\u001b[1;33m\u001b[0m\u001b[0m\n\u001b[0m\u001b[0;32m      6\u001b[0m \u001b[1;33m\u001b[0m\u001b[0m\n",
      "\u001b[1;31mTypeError\u001b[0m: change_style_jt_dt() missing 1 required positional argument: 'lsty'"
     ]
    },
    {
     "data": {
      "image/png": "[encoded data removed]",
      "text/plain": [
       "<Figure size 432x288 with 1 Axes>"
      ]
     },
     "metadata": {
      "needs_background": "light"
     },
     "output_type": "display_data"
    }
   ],
   "source": [
    "df = cvis.transform_data_for_lineplot(v_jt_full_df[:225])\n",
    "c7 = df[df['data_type']=='c7']\n",
    "\n",
    "ax = sns.lineplot(x='time', y='value', hue='level', ci='sd', style = 'data_type', data=c7)\n",
    "change_style_jt_dt(ax, 'r')\n",
    "\n"
   ]
  },
  {
   "cell_type": "code",
   "execution_count": 38,
   "metadata": {},
   "outputs": [
    {
     "ename": "NameError",
     "evalue": "name 'ax' is not defined",
     "output_type": "error",
     "traceback": [
      "\u001b[1;31m---------------------------------------------------------------------------\u001b[0m",
      "\u001b[1;31mNameError\u001b[0m                                 Traceback (most recent call last)",
      "\u001b[1;32m<ipython-input-38-482f254221be>\u001b[0m in \u001b[0;36m<module>\u001b[1;34m\u001b[0m\n\u001b[1;32m----> 1\u001b[1;33m \u001b[1;32mfor\u001b[0m \u001b[0mc\u001b[0m \u001b[1;32min\u001b[0m \u001b[0max\u001b[0m\u001b[1;33m.\u001b[0m\u001b[0mget_children\u001b[0m\u001b[1;33m(\u001b[0m\u001b[1;33m)\u001b[0m\u001b[1;33m:\u001b[0m\u001b[1;33m\u001b[0m\u001b[0m\n\u001b[0m\u001b[0;32m      2\u001b[0m     \u001b[0mprint\u001b[0m\u001b[1;33m(\u001b[0m\u001b[0mc\u001b[0m\u001b[1;33m)\u001b[0m\u001b[1;33m\u001b[0m\u001b[0m\n",
      "\u001b[1;31mNameError\u001b[0m: name 'ax' is not defined"
     ]
    }
   ],
   "source": [
    "for c in ax.get_children():\n",
    "    print(c)"
   ]
  },
  {
   "cell_type": "code",
   "execution_count": 39,
   "metadata": {},
   "outputs": [
    {
     "ename": "NameError",
     "evalue": "name 'p' is not defined",
     "output_type": "error",
     "traceback": [
      "\u001b[1;31m---------------------------------------------------------------------------\u001b[0m",
      "\u001b[1;31mNameError\u001b[0m                                 Traceback (most recent call last)",
      "\u001b[1;32m<ipython-input-39-807857cd4b4b>\u001b[0m in \u001b[0;36m<module>\u001b[1;34m\u001b[0m\n\u001b[1;32m----> 1\u001b[1;33m \u001b[0mp\u001b[0m\u001b[1;33m.\u001b[0m\u001b[0mset_color\u001b[0m\u001b[1;33m\u001b[0m\u001b[0m\n\u001b[0m",
      "\u001b[1;31mNameError\u001b[0m: name 'p' is not defined"
     ]
    }
   ],
   "source": [
    "p.set_color"
   ]
  },
  {
   "cell_type": "code",
   "execution_count": 12,
   "metadata": {},
   "outputs": [],
   "source": [
    "def change_style_all_jt(ax):\n",
    "    poly, line2D = ax.get_children()[:9], ax.get_children()[9:18] \n",
    "    poly_cof = list((poly[0], poly[3], poly[6]))\n",
    "    poly_pel = list((poly[1], poly[4], poly[7]))\n",
    "    poly_c7 = list((poly[2], poly[5], poly[8]))\n",
    "    \n",
    "    line_cof = list((line2D[0], line2D[3], line2D[6]))\n",
    "    line_pel = list((line2D[1], line2D[4], line2D[7]))\n",
    "    line_c7 = list((line2D[2], line2D[5], line2D[8]))\n",
    "    \n",
    "    for p in poly_cof:\n",
    "        p.set_edgecolor('k')\n",
    "    for l in line_cof:\n",
    "        l.set_color('k')\n",
    "        \n",
    "    for p in poly_pel:\n",
    "        p.set_edgecolor('b')\n",
    "    for l in line_pel:\n",
    "        l.set_color('b')\n",
    "    \n",
    "    for p in poly_c7:\n",
    "        p.set_edgecolor('r')\n",
    "    for l in line_c7:\n",
    "        l.set_color('r')"
   ]
  },
  {
   "cell_type": "code",
   "execution_count": 13,
   "metadata": {},
   "outputs": [],
   "source": [
    "def change_style_jt_dt(ax, c, lsty, legend=False):\n",
    "    poly, line2D = ax.get_children()[:3], ax.get_children()[3:6] \n",
    "    poly_lvl = list((poly[0], poly[1], poly[2]))\n",
    "    line_lvl = list((line2D[0], line2D[1], line2D[2]))\n",
    "    \n",
    "    \n",
    "    for p in poly_lvl:\n",
    "        p.set_edgecolor(c)\n",
    "    for l in line_lvl:\n",
    "        l.set_color(c)\n",
    "        l.set_alpha(0.5)\n",
    "        l.set_linestyle(lsty)\n",
    "    if not legend:\n",
    "        ax.legend_.remove()\n",
    " "
   ]
  },
  {
   "cell_type": "code",
   "execution_count": 14,
   "metadata": {},
   "outputs": [],
   "source": [
    "def change_style_angle_dt(ax, c):\n",
    "    poly, line2D = ax.get_children()[:3], ax.get_children()[3:6] \n",
    "    poly_teta1 = list((poly[0], poly[1], poly[2]))\n",
    "    line_lvl = list((line2D[3], line2D[4], line2D[5]))\n",
    "    \n",
    "    \n",
    "    for p in poly_lvl:\n",
    "        p.set_edgecolor(c)\n",
    "    for l in line_lvl:\n",
    "        l.set_color(c)\n",
    " "
   ]
  },
  {
   "cell_type": "code",
   "execution_count": null,
   "metadata": {},
   "outputs": [],
   "source": []
  },
  {
   "cell_type": "code",
   "execution_count": null,
   "metadata": {},
   "outputs": [],
   "source": []
  }
 ],
 "metadata": {
  "kernelspec": {
   "display_name": "Python 3",
   "language": "python",
   "name": "python3"
  },
  "language_info": {
   "codemirror_mode": {
    "name": "ipython",
    "version": 3
   },
   "file_extension": ".py",
   "mimetype": "text/x-python",
   "name": "python",
   "nbconvert_exporter": "python",
   "pygments_lexer": "ipython3",
   "version": "3.7.0"
  }
 },
 "nbformat": 4,
 "nbformat_minor": 2
}
