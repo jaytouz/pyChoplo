{
 "cells": [
  {
   "cell_type": "code",
   "execution_count": 2,
   "metadata": {},
   "outputs": [],
   "source": [
    "from pickling import load_pickle, create_pickle\n",
    "import pandas as pd\n",
    "import numpy as np\n",
    "import matplotlib.pyplot as plt\n",
    "import seaborn as sns\n",
    "from scipy import stats\n",
    "import researchpy as rp\n",
    "import statsmodels.api as sm\n",
    "import choplo_statistique as cstats\n",
    "import choplo_visualization as cvis\n",
    "from statsmodels.stats.anova import AnovaRM\n",
    "from statsmodels.formula.api import ols\n",
    "from statsmodels.stats.multicomp import pairwise_tukeyhsd\n",
    "from statsmodels.stats.multicomp import MultiComparison\n",
    "import os\n",
    "import statsmodels as sm\n"
   ]
  },
  {
   "cell_type": "code",
   "execution_count": 9,
   "metadata": {},
   "outputs": [
    {
     "name": "stderr",
     "output_type": "stream",
     "text": [
      "C:\\Users\\tousi\\AppData\\Local\\conda\\conda\\envs\\python37\\lib\\site-packages\\pandas\\core\\indexes\\base.py:162: FutureWarning: the 'labels' keyword is deprecated, use 'codes' instead\n",
      "  return cls.__new__(cls, **d)\n"
     ]
    }
   ],
   "source": [
    "a_df = load_pickle('amp')\n",
    "a_side_df = load_pickle('side_amp')\n",
    "a_jt_df = load_pickle('amp_jt_new_filt')\n",
    "a_jt_full_df = load_pickle('amp_not_norm_joint_df_new_filt')\n",
    "a_angle_full_df = load_pickle('amp_not_norm_angle_df')\n",
    "a_st_df = load_pickle('amp_strat_new_filt')\n",
    "a_missing_df = load_pickle('missing_amp')\n",
    "\n",
    "v_df = load_pickle('vit')\n",
    "v_side_df = load_pickle('side_vit')\n",
    "v_jt_df = load_pickle('vit_jt_new_filt')\n",
    "v_st_df = load_pickle('vit_strat_new_filt')\n",
    "v_jt_full_df = load_pickle('vit_not_norm_joint_df_new_filt')\n",
    "v_angle_full_df = load_pickle('vit_not_norm_angle_df')\n",
    "v_missing_df = load_pickle('missing_vit') \n",
    "\n",
    "idx = pd.IndexSlice\n"
   ]
  },
  {
   "cell_type": "code",
   "execution_count": 16,
   "metadata": {},
   "outputs": [],
   "source": [
    "v0 = v_df.loc[idx['lvl_0'], idx['overshoot','value']]\n",
    "v1 = v_df.loc[idx['lvl_1'], idx['overshoot','value']]\n",
    "v2 = v_df.loc[idx['lvl_2'], idx['overshoot','value']]\n",
    "a0 = a_df.loc[idx['lvl_0'], idx['overshoot','value']]\n",
    "a1 = a_df.loc[idx['lvl_1'], idx['overshoot','value']]\n",
    "a2 = a_df.loc[idx['lvl_2'], idx['overshoot','value']]"
   ]
  },
  {
   "cell_type": "code",
   "execution_count": 17,
   "metadata": {},
   "outputs": [],
   "source": [
    "c_list = [a0, a1, a2, v0, v1, v2]"
   ]
  },
  {
   "cell_type": "code",
   "execution_count": 20,
   "metadata": {},
   "outputs": [],
   "source": [
    "c_std = []\n",
    "for c in c_list:\n",
    "    c_std.append(c.groupby(level=0).std())"
   ]
  },
  {
   "cell_type": "code",
   "execution_count": 42,
   "metadata": {},
   "outputs": [
    {
     "data": {
      "text/plain": [
       "condition  players \n",
       "a0         player_0    0.015178\n",
       "           player_1    0.009750\n",
       "           player_2    0.008208\n",
       "           player_3    0.019055\n",
       "           player_4    0.017163\n",
       "           player_5    0.014064\n",
       "           player_6    0.012286\n",
       "           player_7    0.012231\n",
       "           player_8    0.012664\n",
       "           player_9    0.013601\n",
       "a1         player_0    0.021278\n",
       "           player_1    0.010174\n",
       "           player_2    0.017213\n",
       "           player_3    0.022878\n",
       "           player_4    0.014970\n",
       "           player_5    0.018440\n",
       "           player_6    0.020006\n",
       "           player_7    0.013770\n",
       "           player_8    0.011834\n",
       "           player_9    0.012152\n",
       "a2         player_0    0.012538\n",
       "           player_1    0.012450\n",
       "           player_2    0.011066\n",
       "           player_3    0.028013\n",
       "           player_4    0.019134\n",
       "           player_5    0.020494\n",
       "           player_6    0.028168\n",
       "           player_7    0.027488\n",
       "           player_8    0.014597\n",
       "           player_9    0.009823\n",
       "v0         player_0    0.013357\n",
       "           player_1    0.009932\n",
       "           player_2    0.009998\n",
       "           player_3    0.013048\n",
       "           player_4    0.021629\n",
       "           player_5    0.012497\n",
       "           player_6    0.020069\n",
       "           player_7    0.022277\n",
       "           player_8    0.020435\n",
       "           player_9    0.012124\n",
       "v1         player_0    0.014525\n",
       "           player_1    0.008929\n",
       "           player_2    0.008110\n",
       "           player_3    0.018119\n",
       "           player_4    0.029220\n",
       "           player_5    0.013441\n",
       "           player_6    0.017570\n",
       "           player_7    0.017436\n",
       "           player_8    0.014137\n",
       "           player_9    0.008992\n",
       "v2         player_0    0.012114\n",
       "           player_1    0.012027\n",
       "           player_2    0.010211\n",
       "           player_3    0.020540\n",
       "           player_4    0.026848\n",
       "           player_5    0.010049\n",
       "           player_6    0.020057\n",
       "           player_7    0.027097\n",
       "           player_8    0.019331\n",
       "           player_9    0.015108\n",
       "Name: (overshoot, value), dtype: float64"
      ]
     },
     "execution_count": 42,
     "metadata": {},
     "output_type": "execute_result"
    }
   ],
   "source": [
    "df = pd.concat(c_std, keys=['a0','a1','a2','v0','v1','v2'], names=['condition', 'players'])\n",
    "df"
   ]
  },
  {
   "cell_type": "code",
   "execution_count": 36,
   "metadata": {},
   "outputs": [
    {
     "data": {
      "text/plain": [
       "<matplotlib.axes._subplots.AxesSubplot at 0x19d3b558c18>"
      ]
     },
     "execution_count": 36,
     "metadata": {},
     "output_type": "execute_result"
    },
    {
     "data": {
      "image/png": "[encoded data removed]",
      "text/plain": [
       "<Figure size 432x288 with 1 Axes>"
      ]
     },
     "metadata": {
      "needs_background": "light"
     },
     "output_type": "display_data"
    }
   ],
   "source": [
    "df.loc[idx[:,'player_9']].plot("
   ]
  },
  {
   "cell_type": "code",
   "execution_count": 39,
   "metadata": {},
   "outputs": [
    {
     "data": {
      "text/plain": [
       "<matplotlib.axes._subplots.AxesSubplot at 0x19d3b670518>"
      ]
     },
     "execution_count": 39,
     "metadata": {},
     "output_type": "execute_result"
    },
    {
     "data": {
      "image/png": "[encoded data removed]",
      "text/plain": [
       "<Figure size 432x288 with 1 Axes>"
      ]
     },
     "metadata": {
      "needs_background": "light"
     },
     "output_type": "display_data"
    }
   ],
   "source": []
  },
  {
   "cell_type": "code",
   "execution_count": null,
   "metadata": {},
   "outputs": [],
   "source": [
    "sns.catplot()"
   ]
  }
 ],
 "metadata": {
  "kernelspec": {
   "display_name": "Python 3",
   "language": "python",
   "name": "python3"
  },
  "language_info": {
   "codemirror_mode": {
    "name": "ipython",
    "version": 3
   },
   "file_extension": ".py",
   "mimetype": "text/x-python",
   "name": "python",
   "nbconvert_exporter": "python",
   "pygments_lexer": "ipython3",
   "version": "3.7.0"
  }
 },
 "nbformat": 4,
 "nbformat_minor": 2
}
